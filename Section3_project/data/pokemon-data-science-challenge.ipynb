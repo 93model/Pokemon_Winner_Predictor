{
 "cells": [
  {
   "cell_type": "markdown",
   "metadata": {
    "_cell_guid": "416b7480-afbc-4d46-a960-14061cb14486",
    "_uuid": "50e69ab858d7c6bfe2a0cc405c3a1e35092a2f43"
   },
   "source": [
    "# Pokemon Data Science Challenge"
   ]
  },
  {
   "cell_type": "markdown",
   "metadata": {
    "_cell_guid": "90f06a80-476c-4a7b-ba05-0fe03cec1532",
    "_uuid": "fa38caec9f9b5b678094a2f3d0865eb16fb65692"
   },
   "source": [
    "![](https://lh3.googleusercontent.com/nuqQn4oUVnmqxe0pq8EcofuXLNIZ9gg6JkxFuvukxnClQ7Zy2eWA1Y1oBeYqlYJ3tZ29pHBsXQ6rHh03Tji9gxB1OeWGfsD0oy0Q48oJ_LMAFuq9HZqkh_hWQiSmKlJuGZZHSXrDRjkh43rKeJmDlCE9b6MeX6FMHuay3aniKPVr6pSEXltIS-98RnCjqQMtD6mi7ddtDvG4aSVIXI-D227U192AKaRsCQpv0pi9hUxu5j1-kyaV_uI4LuKkjosf9M1piA85CbxLr-XgFT6BGz1PrxEsOFzAXM7t0ja6jBg399X6DXmVappJSOcPkGoeIlrZqTn50WfCtNrL7ACdVsqVavoNbL74xjPki7HAAmTwmEk7Vkt068O2Hnth4V3l4pqZlRU9miN-v1s2EjydRKv98jnqkiXJuKUdrxK-nBAeZdhymYcU5bcYIiGHbxXZOq3Dzmi77X_PeWEv-wCxKz7Mz3NP2dwBVRC64LwNVPQFhQO0S-iqG_aLUTdppclphJlUe_4gJ0lSYrQ26KFqGS8sAyfeIKexOjzGRvuiRu2H_A8u_RbQAjCFc2oSH-fBRxjFe7am8y_Q8T1cxamQ5YdY7UYFHRnLK1cQXZf5TQ=w2048-h1193-no)"
   ]
  },
  {
   "cell_type": "markdown",
   "metadata": {
    "_cell_guid": "c675d22c-9997-4c01-9880-cc4997abb370",
    "_uuid": "bad4aed8973ac60c7a08fbe9d5d771516a856a53"
   },
   "source": [
    "I'm Kaggle Beginner. This is my first Kaggle Kernel to learn data analyzing method. "
   ]
  },
  {
   "cell_type": "markdown",
   "metadata": {
    "_cell_guid": "8d31d3fd-c8e4-4bc2-bc76-056c3d593f4f",
    "_uuid": "ef794be079c7bb352c5bfdec000966ac9edc10e5"
   },
   "source": [
    "### Contents\n",
    "#### 1. Data Analysis & Visuallization\n",
    "1-1. Simple Analysis  \n",
    "1-2. Analysis on Base stats  \n",
    "1-3. Why it happen superior pokemons lose to inferior pokemons?        \n",
    "1-4. What pokemon have most high percentage of winning?\n",
    "\n",
    "#### 2. Data Cleansing & Predicting\n",
    "2-1. Completing Data  \n",
    "2-2. Preparing DataFrame for predicting   \n",
    "2-3. Regression, Classifier and Verification  \n",
    "2-4. Predicting  "
   ]
  },
  {
   "cell_type": "markdown",
   "metadata": {
    "_cell_guid": "3b548c7f-46a5-4dbc-89e8-f91960f8c1e0",
    "_uuid": "0a31d019390b287c8f57b895c77b45a224d233d9"
   },
   "source": [
    "#### 1. Data Analysis & Visuallization\n",
    "##### 1-1. Simple Analysis"
   ]
  },
  {
   "cell_type": "code",
   "execution_count": 1,
   "metadata": {
    "_cell_guid": "b0d4629b-5421-476b-89fb-82f6f89d4978",
    "_uuid": "602dffce08c4527b9906050d2ae4870d35716c3e",
    "collapsed": true
   },
   "outputs": [
    {
     "data": {
      "text/html": [
       "<div>\n",
       "<style>\n",
       "    .dataframe thead tr:only-child th {\n",
       "        text-align: right;\n",
       "    }\n",
       "\n",
       "    .dataframe thead th {\n",
       "        text-align: left;\n",
       "    }\n",
       "\n",
       "    .dataframe tbody tr th {\n",
       "        vertical-align: top;\n",
       "    }\n",
       "</style>\n",
       "<table border=\"1\" class=\"dataframe\">\n",
       "  <thead>\n",
       "    <tr style=\"text-align: right;\">\n",
       "      <th></th>\n",
       "      <th>First_pokemon</th>\n",
       "      <th>Second_pokemon</th>\n",
       "      <th>Winner</th>\n",
       "    </tr>\n",
       "  </thead>\n",
       "  <tbody>\n",
       "    <tr>\n",
       "      <th>0</th>\n",
       "      <td>266</td>\n",
       "      <td>298</td>\n",
       "      <td>298</td>\n",
       "    </tr>\n",
       "    <tr>\n",
       "      <th>1</th>\n",
       "      <td>702</td>\n",
       "      <td>701</td>\n",
       "      <td>701</td>\n",
       "    </tr>\n",
       "    <tr>\n",
       "      <th>2</th>\n",
       "      <td>191</td>\n",
       "      <td>668</td>\n",
       "      <td>668</td>\n",
       "    </tr>\n",
       "  </tbody>\n",
       "</table>\n",
       "</div>"
      ],
      "text/plain": [
       "   First_pokemon  Second_pokemon  Winner\n",
       "0            266             298     298\n",
       "1            702             701     701\n",
       "2            191             668     668"
      ]
     },
     "execution_count": 1,
     "metadata": {},
     "output_type": "execute_result"
    }
   ],
   "source": [
    "import pandas as pd\n",
    "combats = pd.read_csv('../input/combats.csv')\n",
    "combats.head(3)"
   ]
  },
  {
   "cell_type": "markdown",
   "metadata": {
    "_cell_guid": "002d920c-7254-4065-a49c-eb5e8da9832d",
    "_uuid": "9f2ff42cf8bc6f3426a8db26a468df2869ce7364"
   },
   "source": [
    "First row is No.266 pokemon vs No.298 pokemon battle, and No.298 pokemon is Winner.\n",
    "What are No.266 pokemon and No.298 pokemon? Check on pokemon.csv."
   ]
  },
  {
   "cell_type": "code",
   "execution_count": 2,
   "metadata": {
    "_cell_guid": "548a29f4-eecf-49fe-9e17-38fe3a1a6d93",
    "_uuid": "957096c8c4a945ae0f6cf4511904a55e64985591",
    "collapsed": true
   },
   "outputs": [
    {
     "data": {
      "text/html": [
       "<div>\n",
       "<style>\n",
       "    .dataframe thead tr:only-child th {\n",
       "        text-align: right;\n",
       "    }\n",
       "\n",
       "    .dataframe thead th {\n",
       "        text-align: left;\n",
       "    }\n",
       "\n",
       "    .dataframe tbody tr th {\n",
       "        vertical-align: top;\n",
       "    }\n",
       "</style>\n",
       "<table border=\"1\" class=\"dataframe\">\n",
       "  <thead>\n",
       "    <tr style=\"text-align: right;\">\n",
       "      <th></th>\n",
       "      <th>#</th>\n",
       "      <th>Name</th>\n",
       "      <th>Type 1</th>\n",
       "      <th>Type 2</th>\n",
       "      <th>HP</th>\n",
       "      <th>Attack</th>\n",
       "      <th>Defense</th>\n",
       "      <th>Sp. Atk</th>\n",
       "      <th>Sp. Def</th>\n",
       "      <th>Speed</th>\n",
       "      <th>Generation</th>\n",
       "      <th>Legendary</th>\n",
       "    </tr>\n",
       "  </thead>\n",
       "  <tbody>\n",
       "    <tr>\n",
       "      <th>265</th>\n",
       "      <td>266</td>\n",
       "      <td>Larvitar</td>\n",
       "      <td>Rock</td>\n",
       "      <td>Ground</td>\n",
       "      <td>50</td>\n",
       "      <td>64</td>\n",
       "      <td>50</td>\n",
       "      <td>45</td>\n",
       "      <td>50</td>\n",
       "      <td>41</td>\n",
       "      <td>2</td>\n",
       "      <td>False</td>\n",
       "    </tr>\n",
       "    <tr>\n",
       "      <th>297</th>\n",
       "      <td>298</td>\n",
       "      <td>Nuzleaf</td>\n",
       "      <td>Grass</td>\n",
       "      <td>Dark</td>\n",
       "      <td>70</td>\n",
       "      <td>70</td>\n",
       "      <td>40</td>\n",
       "      <td>60</td>\n",
       "      <td>40</td>\n",
       "      <td>60</td>\n",
       "      <td>3</td>\n",
       "      <td>False</td>\n",
       "    </tr>\n",
       "  </tbody>\n",
       "</table>\n",
       "</div>"
      ],
      "text/plain": [
       "       #      Name Type 1  Type 2  HP  Attack  Defense  Sp. Atk  Sp. Def  \\\n",
       "265  266  Larvitar   Rock  Ground  50      64       50       45       50   \n",
       "297  298   Nuzleaf  Grass    Dark  70      70       40       60       40   \n",
       "\n",
       "     Speed  Generation  Legendary  \n",
       "265     41           2      False  \n",
       "297     60           3      False  "
      ]
     },
     "execution_count": 2,
     "metadata": {},
     "output_type": "execute_result"
    }
   ],
   "source": [
    "pokemon = pd.read_csv('../input/pokemon.csv')\n",
    "pokemon_266_298 = pokemon[pokemon['#'].isin([266, 298])]\n",
    "pokemon_266_298"
   ]
  },
  {
   "cell_type": "markdown",
   "metadata": {
    "_cell_guid": "c6a35e46-b038-44f9-baff-9123cc9585b3",
    "_uuid": "e14cedbbe282d35f110e9d207674978951b05d2e"
   },
   "source": [
    "No.266 pokemon is Lavitar. No.298 pokemon is Nuzleaf."
   ]
  },
  {
   "cell_type": "markdown",
   "metadata": {
    "_cell_guid": "8b7702b4-7aaf-4d46-aab2-1114ef260779",
    "_uuid": "a4a24f0707caed4999ee716ea3fdd86f9148101c"
   },
   "source": [
    "<img src=\"https://lh3.googleusercontent.com/TECjRWeu5CdKIgHDgVsV5VI7r0_EARgGEFPxTUo8sR9Cu0yRtzo3iAYDpv9Q_9vx9_DtKiJo-2rTKA5vDPoRGhAg2zP3gmdaMO9gIv_iEvECIhv8pNzSjD7kxM8W7jM92XuAUDS5ix_mTUvksr5ZUf6Wet7Nu_xcYG31OHqGCg51iS9U9boI6h6xv2-ItbKUrBFBanoBIvoUWcvGfI1KV3RlgmAYkWo5RgSjLC8PE0DnSIs6IvDNAebajBbok8mHT_BEgV8yFfpZ3Dsrk8T2mPeOmQDOiQvp6mnF6JegAbhAwE-ZKBIFn-FO5rTHnDWymC4M7Ur1jSVRv2P06sYtJR5ZXbb_OmvEFM5VzgsFnkSAFnovYtMyENcowhNop5QYt9x22Y6sO_tsjYu2YonyA5bV-NoKcUHEHzkCFxcSLuRsTSWYPeENTOnsPdXZAbGG2MnGulxgRcnTJbln8KkCqWaiw4Yz8q8l3muD98HYCCpodSeRTazgW6p4t6HYqAVyDd0qi2rODFPxTEzeuo6ECQqA0ZLIlgYn8zhj0NAsj8zOa4yrrnyJ1Jwfneq2vmCkTP4zvFpTFK9ztQw0dPiOFzF2lkZMq8UGmj0hzaBGDA=w302-h153-no\">"
   ]
  },
  {
   "cell_type": "markdown",
   "metadata": {
    "_cell_guid": "3389920c-a188-4d0c-a939-3b178ab17f44",
    "_uuid": "113b306878d2836684452f2a0720471a03b13329"
   },
   "source": [
    "Winner is Nuzleaf. Nuzleaf's type is Rock and Ground, and Lavitar's type is Grass and Dark. Pokemon Type Chart is a following figure. According to this type chart, Nuzleaf has type advantage. "
   ]
  },
  {
   "cell_type": "markdown",
   "metadata": {
    "_cell_guid": "84ade1d9-63f4-4988-bfc0-c8a1cd019e91",
    "_uuid": "6769c9c438b9b0a03af3ffdd4febd3dd7b992856"
   },
   "source": [
    "<img src=\"https://lh3.googleusercontent.com/TZvRRKFXFCy-hocOUCvojB0jdf3OUn2yqn8AB_3QfSGo3iIxfJY2eLO0iwC6zPxudmDlIlyBigeyb5QpzLW6-s9vqyMxEFIhIwJPfR5NIBCnXZsCBejL2Fp6YrqZt-mBjY6b8MTErkIFadk8pc7BN-ea57V2b0Ae3EZLm4S9VZyqp7QhPFjBNBr0k6QQShNqotZVSeDnK79uJ68V35nVXHU4WXcAi3iaV5yoMwGbgO6vZw2a3rhOCtuPRNG2sCvQvAgtt1yWMCrXsbAqLqMVXOpWzq2h_7yHUJEKbaLM15I2agIQvsLCL6982ukzf-Oc6RMlxt5SYGb5nBfklScJ0hcL4CNa10MREurHCaISNWObzmI5TBzRpW-_tawpezkVn7a3qCqJpMN70USqnjn4sqBhToOIZOxmLUXJCVBBPEB7jMD3OHHLibXOQ2vaK4JGxsKZxKmN5zbzyHGBFeg-nyL2eTQwPDb2msxoOgma0w_teKUL3V2LvkQuRRYDL3Qv_RySk5bDhTN9l_6odXdGXQHB4G-buYhOgRnUktGme8cSn2BpSk4Q7wac4PeNIsJexUmDu93ggQdggOMeHEFkvpa9kheLHriW_DnvZrAzJw=w1160-h571-no\" width=\"80%\">"
   ]
  },
  {
   "cell_type": "code",
   "execution_count": 3,
   "metadata": {
    "_cell_guid": "ec2453ae-5a25-4c2f-a18a-c38453f4911c",
    "_uuid": "10edb8fa84266d5dfe865d7de90774e5e74b72c2",
    "collapsed": true
   },
   "outputs": [
    {
     "data": {
      "text/html": [
       "<div>\n",
       "<style>\n",
       "    .dataframe thead tr:only-child th {\n",
       "        text-align: right;\n",
       "    }\n",
       "\n",
       "    .dataframe thead th {\n",
       "        text-align: left;\n",
       "    }\n",
       "\n",
       "    .dataframe tbody tr th {\n",
       "        vertical-align: top;\n",
       "    }\n",
       "</style>\n",
       "<table border=\"1\" class=\"dataframe\">\n",
       "  <thead>\n",
       "    <tr style=\"text-align: right;\">\n",
       "      <th></th>\n",
       "      <th>First_pokemon</th>\n",
       "      <th>Second_pokemon</th>\n",
       "      <th>Winner</th>\n",
       "    </tr>\n",
       "  </thead>\n",
       "  <tbody>\n",
       "    <tr>\n",
       "      <th>0</th>\n",
       "      <td>Larvitar</td>\n",
       "      <td>Nuzleaf</td>\n",
       "      <td>Nuzleaf</td>\n",
       "    </tr>\n",
       "    <tr>\n",
       "      <th>1</th>\n",
       "      <td>Virizion</td>\n",
       "      <td>Terrakion</td>\n",
       "      <td>Terrakion</td>\n",
       "    </tr>\n",
       "    <tr>\n",
       "      <th>2</th>\n",
       "      <td>Togetic</td>\n",
       "      <td>Beheeyem</td>\n",
       "      <td>Beheeyem</td>\n",
       "    </tr>\n",
       "  </tbody>\n",
       "</table>\n",
       "</div>"
      ],
      "text/plain": [
       "  First_pokemon Second_pokemon     Winner\n",
       "0      Larvitar        Nuzleaf    Nuzleaf\n",
       "1      Virizion      Terrakion  Terrakion\n",
       "2       Togetic       Beheeyem   Beheeyem"
      ]
     },
     "execution_count": 3,
     "metadata": {},
     "output_type": "execute_result"
    }
   ],
   "source": [
    "names_dict = dict(zip(pokemon['#'], pokemon['Name']))\n",
    "cols = [\"First_pokemon\",\"Second_pokemon\",\"Winner\"]\n",
    "combats_name = combats[cols].replace(names_dict)\n",
    "combats_name.head(3)"
   ]
  },
  {
   "cell_type": "markdown",
   "metadata": {
    "_cell_guid": "09a753a7-8e8c-48a6-a8dd-d988dc4f13cf",
    "_uuid": "22f21a1208e83cc6ea907f46967b8504cd4e018c"
   },
   "source": [
    "<img src=\"https://lh3.googleusercontent.com/1S3uqz2lvZrjcdNsC_cXc6oVZWPhgW-Uv3sEWoZgu6_DH9c7uEmJ1I8lgebCVJvWbkIHqp7F5TU_Bi745vh8C6Lj-KWWw0LaJX55JooE-UYWXJpGDnJyz9hDnHrUJVUaH8Ug4XEYDMGEVAnF8LYtHnZ5n59JRnSh4YLci8AKGCRQ_o3ZOU1-J86C0N4pZ2zJF7JVrm68_ivxa045BbY5aPXqb_N88UeG0kwIYOFTn9LRTR5hHsf-TT4vGvcSTKeKKKpmR1gHfMX2p5DGbcqnpX7EnNCGzuqWIDOz-jZTFXNNmyxx7QzP6f2c2a9-DBpOVVWkvrU72meKhqlwR5JwgtAZTrtdXupqz1_E_oeaWpmJW5yLJ09wSIw-zM-FOE408hvJ6QMYR5nIaARW0rH7uPh46Dal-mfRQYUXCLMofX2IdKUqdb81WIGg7ZTXmXsGttnRWzzGPfKA5wnvsToq1AEkrunJwXqy1OpGZ_EMWHtj1c73MRokTcYNxNCEUez2Y6yL5Zdkic4P3vaZ5VN36FMnZF_KPxV6gZHKcscCLrEpekEBZpR518mSW4OLK26Uq_yrg6wOsefitO5Mpv22PYZEKhz60709PxPGAnQShw=w302-h452-no\">"
   ]
  },
  {
   "cell_type": "markdown",
   "metadata": {
    "_cell_guid": "b04aabcd-c0d4-473d-ade4-8ffb3ef0aa24",
    "_uuid": "82f3ea2522d2b42729b15e4772c52da6308be500"
   },
   "source": [
    "In combats file, Head 3 Battles and Winners: \n",
    "1. Larvitar (Rock/Ground) vs Nuzleaf (Grass/Dark)         -> Winner: Nuzleaf\n",
    "2. Virizion (Fighting/Grass) vs Terrakion (Fighting/Rock) -> Winner: Terrakion\n",
    "3. Togetic (Fairly/Flying) vs Beheeyem (Psychic)          -> Winner: Beheeyem"
   ]
  },
  {
   "cell_type": "markdown",
   "metadata": {
    "_cell_guid": "44e9493e-2212-4157-9832-d94ac5ad0431",
    "_uuid": "a8cf849413ea81f86e337b0b6bc142362bdbac7c"
   },
   "source": [
    "##### 1-2. Analysis on Base stats\n",
    "In Pokemon Game, species's base stats are an important defining characteristic. Pokemons with high base stat total are strong and popular on battle. Check the base stats total distribution for all pokemons.  "
   ]
  },
  {
   "cell_type": "code",
   "execution_count": 4,
   "metadata": {
    "_cell_guid": "1ac8d288-2d1a-4c14-a8fa-0d96602e821f",
    "_uuid": "8373be12c05faaf4fed11dbfb048dc643403b707",
    "collapsed": true
   },
   "outputs": [
    {
     "name": "stdout",
     "output_type": "stream",
     "text": [
      "count    800.00000\n",
      "mean     435.10250\n",
      "std      119.96304\n",
      "min      180.00000\n",
      "25%      330.00000\n",
      "50%      450.00000\n",
      "75%      515.00000\n",
      "max      780.00000\n",
      "Name: stats_sum, dtype: float64\n"
     ]
    },
    {
     "data": {
      "image/png": "[encoded data removed]",
      "text/plain": [
       "<matplotlib.figure.Figure at 0x7f31e153ff98>"
      ]
     },
     "metadata": {},
     "output_type": "display_data"
    }
   ],
   "source": [
    "pokemon[\"stats_sum\"] = pokemon[\"HP\"] + pokemon[\"Attack\"] + pokemon[\"Defense\"] + pokemon[\"Sp. Atk\"] + pokemon[\"Sp. Def\"] + pokemon[\"Speed\"]\n",
    "import matplotlib.pyplot as plt\n",
    "import seaborn as sns\n",
    "%matplotlib inline\n",
    "print(pokemon[\"stats_sum\"].describe())\n",
    "sns.distplot(pokemon[\"stats_sum\"])\n",
    "plt.show()"
   ]
  },
  {
   "cell_type": "markdown",
   "metadata": {
    "_cell_guid": "bad9fe7a-d3f8-4ec0-beb5-e4c74656869c",
    "_uuid": "0caecfecb0146ba51acdf0ab3ba1f2d6b8869551"
   },
   "source": [
    "This distribution histogram shows that base stat total's distribution has a bimodal distribution. First modal is around 300 and the other is around 500.\n",
    "Next, Check the difference distribution of total base stats between one pokemon and the other pokemon in each match. "
   ]
  },
  {
   "cell_type": "code",
   "execution_count": 5,
   "metadata": {
    "_cell_guid": "4d444127-80ee-4de7-a039-6993bcaceb67",
    "_uuid": "160664fe160cc4bb882ab36bd5b97c58fce3871e",
    "collapsed": true
   },
   "outputs": [
    {
     "name": "stdout",
     "output_type": "stream",
     "text": [
      "count    50000.000000\n",
      "mean       136.551440\n",
      "std        101.221212\n",
      "min          0.000000\n",
      "25%         54.000000\n",
      "50%        118.000000\n",
      "75%        200.000000\n",
      "max        590.000000\n",
      "dtype: float64\n"
     ]
    },
    {
     "data": {
      "image/png": "[encoded data removed]",
      "text/plain": [
       "<matplotlib.figure.Figure at 0x7f31d2bf8198>"
      ]
     },
     "metadata": {},
     "output_type": "display_data"
    }
   ],
   "source": [
    "stats_sum_dict = dict(zip(pokemon['#'], pokemon['stats_sum']))\n",
    "combats_stats_sum = combats[cols].replace(stats_sum_dict)\n",
    "diff_stats_sum = abs(combats_stats_sum[\"First_pokemon\"]-combats_stats_sum[\"Second_pokemon\"])\n",
    "print(diff_stats_sum.describe())\n",
    "sns.distplot(diff_stats_sum)\n",
    "plt.xlabel(\"diff_stats_sum\")\n",
    "plt.show()"
   ]
  },
  {
   "cell_type": "markdown",
   "metadata": {
    "_cell_guid": "4d4ede57-1c32-4913-a605-ec196c1150b5",
    "_uuid": "cacbc275f594543b221445377e7e90926988a1a8"
   },
   "source": [
    "On this distribution, median is 118. Around 50% match are the battle has the difference more than 100 values.\n",
    "Then, did pokemon with higher total base stats win a battle against pokemon with lower total base stats?"
   ]
  },
  {
   "cell_type": "code",
   "execution_count": 6,
   "metadata": {
    "_cell_guid": "d7897acd-62d3-4d3c-88f2-a56e3ed829a4",
    "_uuid": "ab342f40514d21a7c50f039ef6766634f6ad7629",
    "collapsed": true
   },
   "outputs": [
    {
     "name": "stdout",
     "output_type": "stream",
     "text": [
      "count    50000.000000\n",
      "mean        79.776320\n",
      "std        150.093351\n",
      "min       -562.000000\n",
      "25%        -20.000000\n",
      "50%         80.000000\n",
      "75%        186.000000\n",
      "max        590.000000\n",
      "dtype: float64\n"
     ]
    },
    {
     "data": {
      "image/png": "[encoded data removed]",
      "text/plain": [
       "<matplotlib.figure.Figure at 0x7f31d2c71ac8>"
      ]
     },
     "metadata": {},
     "output_type": "display_data"
    }
   ],
   "source": [
    "combats_stats_sum[\"Loser\"] = combats_stats_sum.apply(lambda x: x[\"First_pokemon\"] if x[\"First_pokemon\"] !=  x[\"Winner\"] else x[\"Second_pokemon\"], axis = 1)\n",
    "diff_win_lose_stats = combats_stats_sum[\"Winner\"] - combats_stats_sum[\"Loser\"]\n",
    "print(diff_win_lose_stats.describe())\n",
    "sns.distplot(diff_win_lose_stats)\n",
    "plt.xlabel(\"diff_win_lose_stats\")\n",
    "plt.show()"
   ]
  },
  {
   "cell_type": "markdown",
   "metadata": {
    "_cell_guid": "e929b822-2c76-4ac5-9fd4-64390a535fbc",
    "_uuid": "af38598b5a4c7c56c3ab202ce90fc85e6214a7d6"
   },
   "source": [
    "This distribution shows there is a tendency that pokemon with higher total base stats win a battle against pokemon with lower total base stats. It looks like \"A base stats total is a main factor for winning\". On the other hand, there are battles pokemon with lower base stats surpasses one's superiors.\n",
    "Check the combination battles pokemon with lower base stats surpasses one's superiors with more than 100 values."
   ]
  },
  {
   "cell_type": "code",
   "execution_count": 7,
   "metadata": {
    "_cell_guid": "897d3927-467a-48c8-8ea9-cac0c5f84b8c",
    "_uuid": "c98f0c7b6e1611ae65fa521c5ba603f5228aa70f",
    "collapsed": true
   },
   "outputs": [
    {
     "name": "stdout",
     "output_type": "stream",
     "text": [
      "Surpassing one's superiors Battle number : 5716\n"
     ]
    },
    {
     "data": {
      "text/html": [
       "<div>\n",
       "<style>\n",
       "    .dataframe thead tr:only-child th {\n",
       "        text-align: right;\n",
       "    }\n",
       "\n",
       "    .dataframe thead th {\n",
       "        text-align: left;\n",
       "    }\n",
       "\n",
       "    .dataframe tbody tr th {\n",
       "        vertical-align: top;\n",
       "    }\n",
       "</style>\n",
       "<table border=\"1\" class=\"dataframe\">\n",
       "  <thead>\n",
       "    <tr style=\"text-align: right;\">\n",
       "      <th></th>\n",
       "      <th>First_pokemon</th>\n",
       "      <th>Second_pokemon</th>\n",
       "      <th>Winner</th>\n",
       "      <th>diff</th>\n",
       "    </tr>\n",
       "  </thead>\n",
       "  <tbody>\n",
       "    <tr>\n",
       "      <th>5</th>\n",
       "      <td>Joltik</td>\n",
       "      <td>Aegislash Shield Forme</td>\n",
       "      <td>Joltik</td>\n",
       "      <td>-201</td>\n",
       "    </tr>\n",
       "    <tr>\n",
       "      <th>36</th>\n",
       "      <td>Pancham</td>\n",
       "      <td>Whismur</td>\n",
       "      <td>Whismur</td>\n",
       "      <td>-108</td>\n",
       "    </tr>\n",
       "    <tr>\n",
       "      <th>37</th>\n",
       "      <td>Clauncher</td>\n",
       "      <td>Dusclops</td>\n",
       "      <td>Clauncher</td>\n",
       "      <td>-125</td>\n",
       "    </tr>\n",
       "    <tr>\n",
       "      <th>42</th>\n",
       "      <td>Goomy</td>\n",
       "      <td>Bouffalant</td>\n",
       "      <td>Goomy</td>\n",
       "      <td>-190</td>\n",
       "    </tr>\n",
       "    <tr>\n",
       "      <th>51</th>\n",
       "      <td>Mega Rayquaza</td>\n",
       "      <td>Aegislash Shield Forme</td>\n",
       "      <td>Aegislash Shield Forme</td>\n",
       "      <td>-260</td>\n",
       "    </tr>\n",
       "    <tr>\n",
       "      <th>158</th>\n",
       "      <td>Bouffalant</td>\n",
       "      <td>Vullaby</td>\n",
       "      <td>Vullaby</td>\n",
       "      <td>-120</td>\n",
       "    </tr>\n",
       "    <tr>\n",
       "      <th>168</th>\n",
       "      <td>Keldeo Resolute Forme</td>\n",
       "      <td>Arbok</td>\n",
       "      <td>Arbok</td>\n",
       "      <td>-142</td>\n",
       "    </tr>\n",
       "    <tr>\n",
       "      <th>174</th>\n",
       "      <td>Gothorita</td>\n",
       "      <td>Volcanion</td>\n",
       "      <td>Gothorita</td>\n",
       "      <td>-210</td>\n",
       "    </tr>\n",
       "  </tbody>\n",
       "</table>\n",
       "</div>"
      ],
      "text/plain": [
       "             First_pokemon          Second_pokemon                  Winner  \\\n",
       "5                   Joltik  Aegislash Shield Forme                  Joltik   \n",
       "36                 Pancham                 Whismur                 Whismur   \n",
       "37               Clauncher                Dusclops               Clauncher   \n",
       "42                   Goomy              Bouffalant                   Goomy   \n",
       "51           Mega Rayquaza  Aegislash Shield Forme  Aegislash Shield Forme   \n",
       "158             Bouffalant                 Vullaby                 Vullaby   \n",
       "168  Keldeo Resolute Forme                   Arbok                   Arbok   \n",
       "174              Gothorita               Volcanion               Gothorita   \n",
       "\n",
       "     diff  \n",
       "5    -201  \n",
       "36   -108  \n",
       "37   -125  \n",
       "42   -190  \n",
       "51   -260  \n",
       "158  -120  \n",
       "168  -142  \n",
       "174  -210  "
      ]
     },
     "execution_count": 7,
     "metadata": {},
     "output_type": "execute_result"
    }
   ],
   "source": [
    "stats_sum_dict_re = dict(zip(pokemon['stats_sum'], pokemon['#']))\n",
    "combats_stats_sum[\"diff\"] = diff_win_lose_stats\n",
    "surpassing_stats_sum = combats_stats_sum[combats_stats_sum[\"diff\"] < -100]\n",
    "print (\"Surpassing one's superiors Battle number : \" + str(len(surpassing_stats_sum)))\n",
    "surpassing_id = surpassing_stats_sum[cols].replace(stats_sum_dict_re)\n",
    "surpassing_name = surpassing_id[cols].replace(names_dict)\n",
    "surpassing_name.join(combats_stats_sum[\"diff\"]).head(8)"
   ]
  },
  {
   "cell_type": "markdown",
   "metadata": {
    "_cell_guid": "400c5d3e-8b90-4733-93cf-4472608d38bc",
    "_uuid": "b6a0ab9012dacbffb74865d72e24592c7020e8af"
   },
   "source": [
    "The number of combination has the difference more than 100 total values is 5716 combinations. These combinations account for 10% of all battles. Head 8 combinations and winners are below."
   ]
  },
  {
   "cell_type": "markdown",
   "metadata": {
    "_cell_guid": "fca1d3c4-cc2c-45c5-bdb4-6681493b9d0b",
    "_uuid": "677f1e62ce159b19aa3417cda38331a166100a98"
   },
   "source": [
    "<img src=\"https://lh3.googleusercontent.com/TqGv0RVdharxeKsZuq9sSqnV0l20b848jnLO2jKpKpHw_8Txi7_LaEJNpk_r2GOBfJqtv1rHHje2VL_99d8ZoyWLJnuPFw2CKKfRnI96l9CaqcCYDXKE1w8zf5rIF3nd5NMg8gZeo_RgLsA7_XOpnAG7PI3jE8fqsnhYqlpSs5iGa_YolUxqysmjSKQ8Gcw4GuQdBWTYWi7kqC43zs9wCx8A0EsqJJD2WJIfQnQkZfLyt49go8N-v47LX920ONSTiAqMBO2b5OL4WyROPffawR_TsD2PdpNcCDmuhoLVC49Ysz4VU46ctxmoc0wFni1i1CkXT8hC47MqNr3oOIG5sgS4qNI5UdegCzXlLOBaOgy1ZA7roUq2lwCnDu5cUlqljxJP0mtrjUO7ME-9g3e-2phQit484s7UNdP7H_NOXw5rxKTTot-i7_d3veuoL4ih0aqh8mwD-QgOjX9I7FSgZz_l0h2sd-o2nrSl962mDs-LOzsuewwpbiOvpMglLOYEUN-gvv0-cpE2X1uAj-vkb944WMCaR8oDFqWb2_ENLff9dICOLpgJ13pmM_ffTayYKhED8AyaJrl_28Sn2HB2-b9VbSZ8yHPnar3qSRrcng=w555-h540-no\">"
   ]
  },
  {
   "cell_type": "markdown",
   "metadata": {
    "_cell_guid": "5a29f511-f4f6-47af-87a7-8b0b05b7698c",
    "_uuid": "c969a291a55542a0e6644642b74f9890aa4681d2"
   },
   "source": [
    "I want to know the combination has max difference of total base stats. "
   ]
  },
  {
   "cell_type": "code",
   "execution_count": 8,
   "metadata": {
    "_cell_guid": "d691ebfb-3bdf-458f-97e0-1c8559dbf637",
    "_uuid": "5f1d4a96f42f5f68e54f85c49dd2c07f47b55cfc",
    "collapsed": true
   },
   "outputs": [
    {
     "data": {
      "text/html": [
       "<div>\n",
       "<style>\n",
       "    .dataframe thead tr:only-child th {\n",
       "        text-align: right;\n",
       "    }\n",
       "\n",
       "    .dataframe thead th {\n",
       "        text-align: left;\n",
       "    }\n",
       "\n",
       "    .dataframe tbody tr th {\n",
       "        vertical-align: top;\n",
       "    }\n",
       "</style>\n",
       "<table border=\"1\" class=\"dataframe\">\n",
       "  <thead>\n",
       "    <tr style=\"text-align: right;\">\n",
       "      <th></th>\n",
       "      <th>First_pokemon</th>\n",
       "      <th>Second_pokemon</th>\n",
       "      <th>Winner</th>\n",
       "      <th>diff</th>\n",
       "    </tr>\n",
       "  </thead>\n",
       "  <tbody>\n",
       "    <tr>\n",
       "      <th>5861</th>\n",
       "      <td>Mega Rayquaza</td>\n",
       "      <td>Cleffa</td>\n",
       "      <td>Cleffa</td>\n",
       "      <td>-562</td>\n",
       "    </tr>\n",
       "    <tr>\n",
       "      <th>2480</th>\n",
       "      <td>Mega Rayquaza</td>\n",
       "      <td>Cleffa</td>\n",
       "      <td>Cleffa</td>\n",
       "      <td>-562</td>\n",
       "    </tr>\n",
       "    <tr>\n",
       "      <th>41824</th>\n",
       "      <td>Shedinja</td>\n",
       "      <td>Mega Rayquaza</td>\n",
       "      <td>Shedinja</td>\n",
       "      <td>-544</td>\n",
       "    </tr>\n",
       "    <tr>\n",
       "      <th>3506</th>\n",
       "      <td>Mega Rayquaza</td>\n",
       "      <td>Inkay</td>\n",
       "      <td>Inkay</td>\n",
       "      <td>-492</td>\n",
       "    </tr>\n",
       "  </tbody>\n",
       "</table>\n",
       "</div>"
      ],
      "text/plain": [
       "       First_pokemon Second_pokemon    Winner  diff\n",
       "5861   Mega Rayquaza         Cleffa    Cleffa  -562\n",
       "2480   Mega Rayquaza         Cleffa    Cleffa  -562\n",
       "41824       Shedinja  Mega Rayquaza  Shedinja  -544\n",
       "3506   Mega Rayquaza          Inkay     Inkay  -492"
      ]
     },
     "execution_count": 8,
     "metadata": {},
     "output_type": "execute_result"
    }
   ],
   "source": [
    "surpassing_name.join(combats_stats_sum[\"diff\"]).sort_values(by=\"diff\").head(4)"
   ]
  },
  {
   "cell_type": "markdown",
   "metadata": {
    "_cell_guid": "9158f6b8-de7c-4dc0-8251-2c7c11f1f7f8",
    "_uuid": "b56134ea9ec49a8a70adb9c6598bb06182d2ac5f"
   },
   "source": [
    "<img src=\"https://lh3.googleusercontent.com/x4rmtbvelaN-zr8vUZx9Nh863m_ze6lB0HJ6Ywi_qsKy7HwUgJbESIikmbNsvDdldJpy3lNpH-qq8CaSbQSFREwVyCwRy36mq6OOuZGK4dRYYkXjlenOHBQTB2Q6QJTe8ruV9ZS_lu2ur_L5f65DzxeP1mJXNQG5bps1QURFTsAV7LOHfPrya-afE7bo8FI23iy7gloo7VKDhlyGqcoyvSxLpQsKePj5SL0K5lIowqBgfW4WtWVUm3k7f_nPBfpa14Upby1zKHMP00rMvU_SKfjimmj525DjNHXJ6j-F2GCH1yD19jskk1UnSFOaUJn9y_9cUNnFSKMuUcHmLjPXaQVEJAThugEd_pGwCvgdhit3n7F8O6QkGoemVNkNsyRLFUtL9-QtjCWIz-huzung9ibGDHAjO2M5MKUXFhufgf1VFT7uONROu6W-1FdxvYUe8Jbi_vwth9EIQK3oJkbuLI2ea5DK0OetGtLyMCD8KK6VnxLdeKT6w5C3SjBUXcw4fwWCxucEffw0ukYS3P-_4ePxBCkhvYXPX8Lo56EuMI1Ggf9ga5ZY5EKtpsP08cK2ZrxQ8puuOTpGzM4Lyy-JAG9IijAfz_9pgOgvFB98KQ=w255-h381-no\">"
   ]
  },
  {
   "cell_type": "markdown",
   "metadata": {
    "_cell_guid": "dd94fafd-dca1-48fd-b653-824b641cd45e",
    "_uuid": "95c192c9941884b21920fcfc1e6e81f98b4a0abf"
   },
   "source": [
    "Mega Rayquaza has lost to pokemons with much lower base stats. The difference between Mega Rayquaza and Clefa is 562. "
   ]
  },
  {
   "cell_type": "markdown",
   "metadata": {
    "_cell_guid": "ef0ead1a-a991-42d4-875e-9b2cc1cccb2c",
    "_uuid": "ab27f1243acfb648c157ca1e2c53ea933e1e4f50"
   },
   "source": [
    "##### 1-3. Why it happen superior pokemons lose to inferior pokemons?\n",
    "In my idea, there may be 2 factors.\n",
    "1. First Attack\n",
    "2. Type advantage\n",
    "\n",
    "Firstly, Check the effectiveness of first attack. "
   ]
  },
  {
   "cell_type": "code",
   "execution_count": 9,
   "metadata": {
    "_cell_guid": "2556893e-b000-41d8-ad13-1931bb571db6",
    "_uuid": "cc6b6611c2f510bbeef357cfe5e70d86c0ba6df8",
    "collapsed": true,
    "scrolled": true
   },
   "outputs": [
    {
     "data": {
      "image/png": "[encoded data removed]",
      "text/plain": [
       "<matplotlib.figure.Figure at 0x7f3177042400>"
      ]
     },
     "metadata": {},
     "output_type": "display_data"
    }
   ],
   "source": [
    "combats_stats_sum[\"First_Win\"] =  combats_stats_sum.apply(lambda x: 1 if x[\"First_pokemon\"] ==  x[\"Winner\"] else 0, axis = 1)\n",
    "surpassing_stats_sum = combats_stats_sum[combats_stats_sum[\"diff\"] < -100]\n",
    "sns.distplot(surpassing_stats_sum[surpassing_stats_sum[\"First_Win\"]==0][\"diff\"], label=\"First_pokemon_win=0\")\n",
    "sns.distplot(surpassing_stats_sum[surpassing_stats_sum[\"First_Win\"]==1][\"diff\"], label=\"First_pokemon_win=1\")\n",
    "plt.legend()\n",
    "plt.show()"
   ]
  },
  {
   "cell_type": "markdown",
   "metadata": {
    "_cell_guid": "0eb620b8-f72e-4943-8a70-5df3a24cf41f",
    "_uuid": "224f3752856e3b6bb75d75dafcf77f683c2757fa"
   },
   "source": [
    "No difference between First attacker win and lose based on the base stats difference.  \n",
    "Is it same on all combination battles?"
   ]
  },
  {
   "cell_type": "code",
   "execution_count": 10,
   "metadata": {
    "_cell_guid": "5b379809-40f9-4b54-aad8-47c27a58c60d",
    "_uuid": "1c22af7256291acfe57941043678ee531f436591",
    "collapsed": true
   },
   "outputs": [
    {
     "name": "stdout",
     "output_type": "stream",
     "text": [
      "-First_Win=0-\n",
      "count    26065.000000\n",
      "mean        76.155764\n",
      "std        152.292707\n",
      "min       -562.000000\n",
      "25%        -27.000000\n",
      "50%         79.000000\n",
      "75%        185.000000\n",
      "max        585.000000\n",
      "Name: diff, dtype: float64\n",
      "-First_Win=1-\n",
      "count    23935.000000\n",
      "mean        83.719072\n",
      "std        147.563182\n",
      "min       -544.000000\n",
      "25%        -13.000000\n",
      "50%         82.000000\n",
      "75%        190.000000\n",
      "max        590.000000\n",
      "Name: diff, dtype: float64\n"
     ]
    },
    {
     "data": {
      "image/png": "[encoded data removed]",
      "text/plain": [
       "<matplotlib.figure.Figure at 0x7f3176f724e0>"
      ]
     },
     "metadata": {},
     "output_type": "display_data"
    }
   ],
   "source": [
    "sns.distplot(combats_stats_sum[combats_stats_sum[\"First_Win\"]==0][\"diff\"], label=\"First_Win=0\")\n",
    "sns.distplot(combats_stats_sum[combats_stats_sum[\"First_Win\"]==1][\"diff\"], label=\"First_Win=1\")\n",
    "print (\"-First_Win=0-\")\n",
    "print (combats_stats_sum[combats_stats_sum[\"First_Win\"]==0][\"diff\"].describe())\n",
    "print (\"-First_Win=1-\")\n",
    "print (combats_stats_sum[combats_stats_sum[\"First_Win\"]==1][\"diff\"].describe())\n",
    "plt.legend()\n",
    "plt.show()"
   ]
  },
  {
   "cell_type": "markdown",
   "metadata": {
    "_cell_guid": "66111693-7de1-4ee2-a62b-a9685ebca607",
    "_uuid": "1952b9235fa04b0338ca41ecedf51d2503e1fe71"
   },
   "source": [
    "No difference on all battles. It's actually that the count of battle which a first attacker win is less than one which a first attacker lose. So First Attack is not important on result."
   ]
  },
  {
   "cell_type": "markdown",
   "metadata": {
    "_cell_guid": "6ff7e999-005b-4a6b-8233-374b04e5a0ad",
    "_uuid": "fe3d03012a091620dc8eae82dece1f1afacc212d"
   },
   "source": [
    "Next, Check the effectiveness of type advantage. How many types are there in pokemon world?"
   ]
  },
  {
   "cell_type": "code",
   "execution_count": 11,
   "metadata": {
    "_cell_guid": "7af0d8cb-4df4-4593-b7be-115fb5feade3",
    "_uuid": "909eddd79f3a56fde0fc58174e53620ccdc544a6",
    "collapsed": true
   },
   "outputs": [
    {
     "name": "stdout",
     "output_type": "stream",
     "text": [
      "There are 18 Types.\n"
     ]
    },
    {
     "data": {
      "text/plain": [
       "['Grass',\n",
       " 'Fire',\n",
       " 'Water',\n",
       " 'Bug',\n",
       " 'Normal',\n",
       " 'Poison',\n",
       " 'Electric',\n",
       " 'Ground',\n",
       " 'Fairy',\n",
       " 'Fighting',\n",
       " 'Psychic',\n",
       " 'Rock',\n",
       " 'Ghost',\n",
       " 'Ice',\n",
       " 'Dragon',\n",
       " 'Dark',\n",
       " 'Steel',\n",
       " 'Flying']"
      ]
     },
     "execution_count": 11,
     "metadata": {},
     "output_type": "execute_result"
    }
   ],
   "source": [
    "print (\"There are {} Types.\".format(len(pokemon[\"Type 1\"].drop_duplicates())))\n",
    "list(pokemon[\"Type 1\"].drop_duplicates())"
   ]
  },
  {
   "cell_type": "markdown",
   "metadata": {
    "_cell_guid": "a1bf4843-7928-4646-ad74-7e8865d323d3",
    "_uuid": "d502e2358de7be71cf71389b3ce6533c75da5f06"
   },
   "source": [
    "Now, Pokemons can have two types. How many type combinations are there?"
   ]
  },
  {
   "cell_type": "code",
   "execution_count": 12,
   "metadata": {
    "_cell_guid": "8254734e-0dbb-4fd5-b0ff-1e403d1f173b",
    "_uuid": "814e119a257bf5a339889b488780341eddbb7ca9",
    "collapsed": true
   },
   "outputs": [
    {
     "name": "stdout",
     "output_type": "stream",
     "text": [
      "There are 154 unique type-combinations.\n"
     ]
    }
   ],
   "source": [
    "type_cols = [\"Type 1\", \"Type 2\"]\n",
    "print (\"There are {} unique type-combinations.\".format(len(pokemon[type_cols].drop_duplicates())))"
   ]
  },
  {
   "cell_type": "code",
   "execution_count": 13,
   "metadata": {
    "_cell_guid": "2c52296b-20d9-4d53-b178-f5a1f702b362",
    "_uuid": "6cee5b0da4518edfd8112c15d93b9c4e2114db90",
    "collapsed": true,
    "scrolled": true
   },
   "outputs": [
    {
     "data": {
      "image/png": "[encoded data removed]",
      "text/plain": [
       "<matplotlib.figure.Figure at 0x7f3176e10ba8>"
      ]
     },
     "metadata": {},
     "output_type": "display_data"
    }
   ],
   "source": [
    "pokemon[\"Type 2\"] = pokemon[\"Type 2\"].fillna(\"None\")\n",
    "type_cross = pd.crosstab(pokemon[\"Type 1\"], pokemon[\"Type 2\"])\n",
    "type_cross.plot.bar(stacked=True, figsize=(14,4))\n",
    "plt.legend(bbox_to_anchor=(0.01, 0.99), loc='upper left', ncol=5, fontsize=8, title=\"Type 2\")\n",
    "plt.show()"
   ]
  },
  {
   "cell_type": "markdown",
   "metadata": {
    "_cell_guid": "d23f24ee-656f-4057-b67e-af5e9f6e351b",
    "_uuid": "7d5f1d19a6c19c2a3649c586fe82c61ad193e05f"
   },
   "source": [
    "Let's make type chart dataframe.\n",
    "If the type of an attacker is super effective against a type of its target, the damage done is double the normal amount;\n",
    "If the type of an attacker is not very effective against a type of its target, the damage done is half the normal amount;\n",
    "If the type of an attacker is not effective against a type of its target, the target is completely immune to it, and the move will deal no damage."
   ]
  },
  {
   "cell_type": "code",
   "execution_count": 14,
   "metadata": {
    "_cell_guid": "95d68491-1d43-4943-b54d-26d14d9b0271",
    "_uuid": "a507df65fccbf747de9152acb4de2ac31bed0807",
    "collapsed": true
   },
   "outputs": [
    {
     "name": "stdout",
     "output_type": "stream",
     "text": [
      "Row is Diffender, Column is Attacker\n"
     ]
    },
    {
     "data": {
      "text/html": [
       "<div>\n",
       "<style>\n",
       "    .dataframe thead tr:only-child th {\n",
       "        text-align: right;\n",
       "    }\n",
       "\n",
       "    .dataframe thead th {\n",
       "        text-align: left;\n",
       "    }\n",
       "\n",
       "    .dataframe tbody tr th {\n",
       "        vertical-align: top;\n",
       "    }\n",
       "</style>\n",
       "<table border=\"1\" class=\"dataframe\">\n",
       "  <thead>\n",
       "    <tr style=\"text-align: right;\">\n",
       "      <th></th>\n",
       "      <th>Bug</th>\n",
       "      <th>Dark</th>\n",
       "      <th>Dragon</th>\n",
       "      <th>Electric</th>\n",
       "      <th>Fairy</th>\n",
       "      <th>Fighting</th>\n",
       "      <th>Fire</th>\n",
       "      <th>Flying</th>\n",
       "      <th>Ghost</th>\n",
       "      <th>Grass</th>\n",
       "      <th>Ground</th>\n",
       "      <th>Ice</th>\n",
       "      <th>Normal</th>\n",
       "      <th>Poison</th>\n",
       "      <th>Psychic</th>\n",
       "      <th>Rock</th>\n",
       "      <th>Steel</th>\n",
       "      <th>Water</th>\n",
       "    </tr>\n",
       "  </thead>\n",
       "  <tbody>\n",
       "    <tr>\n",
       "      <th>Bug</th>\n",
       "      <td>1.0</td>\n",
       "      <td>1.0</td>\n",
       "      <td>1.0</td>\n",
       "      <td>1.0</td>\n",
       "      <td>1.0</td>\n",
       "      <td>0.5</td>\n",
       "      <td>2.0</td>\n",
       "      <td>2.0</td>\n",
       "      <td>1.0</td>\n",
       "      <td>0.5</td>\n",
       "      <td>0.5</td>\n",
       "      <td>1.0</td>\n",
       "      <td>1.0</td>\n",
       "      <td>1.0</td>\n",
       "      <td>1.0</td>\n",
       "      <td>2.0</td>\n",
       "      <td>1.0</td>\n",
       "      <td>1.0</td>\n",
       "    </tr>\n",
       "    <tr>\n",
       "      <th>Dark</th>\n",
       "      <td>2.0</td>\n",
       "      <td>0.5</td>\n",
       "      <td>1.0</td>\n",
       "      <td>1.0</td>\n",
       "      <td>2.0</td>\n",
       "      <td>2.0</td>\n",
       "      <td>1.0</td>\n",
       "      <td>1.0</td>\n",
       "      <td>0.5</td>\n",
       "      <td>1.0</td>\n",
       "      <td>1.0</td>\n",
       "      <td>1.0</td>\n",
       "      <td>1.0</td>\n",
       "      <td>1.0</td>\n",
       "      <td>0.0</td>\n",
       "      <td>1.0</td>\n",
       "      <td>1.0</td>\n",
       "      <td>1.0</td>\n",
       "    </tr>\n",
       "    <tr>\n",
       "      <th>Dragon</th>\n",
       "      <td>1.0</td>\n",
       "      <td>1.0</td>\n",
       "      <td>2.0</td>\n",
       "      <td>0.5</td>\n",
       "      <td>2.0</td>\n",
       "      <td>1.0</td>\n",
       "      <td>0.5</td>\n",
       "      <td>1.0</td>\n",
       "      <td>1.0</td>\n",
       "      <td>0.5</td>\n",
       "      <td>1.0</td>\n",
       "      <td>2.0</td>\n",
       "      <td>1.0</td>\n",
       "      <td>1.0</td>\n",
       "      <td>1.0</td>\n",
       "      <td>1.0</td>\n",
       "      <td>1.0</td>\n",
       "      <td>0.5</td>\n",
       "    </tr>\n",
       "    <tr>\n",
       "      <th>Electric</th>\n",
       "      <td>1.0</td>\n",
       "      <td>1.0</td>\n",
       "      <td>1.0</td>\n",
       "      <td>0.5</td>\n",
       "      <td>1.0</td>\n",
       "      <td>1.0</td>\n",
       "      <td>1.0</td>\n",
       "      <td>0.5</td>\n",
       "      <td>1.0</td>\n",
       "      <td>1.0</td>\n",
       "      <td>2.0</td>\n",
       "      <td>1.0</td>\n",
       "      <td>1.0</td>\n",
       "      <td>1.0</td>\n",
       "      <td>1.0</td>\n",
       "      <td>1.0</td>\n",
       "      <td>0.5</td>\n",
       "      <td>1.0</td>\n",
       "    </tr>\n",
       "    <tr>\n",
       "      <th>Fairy</th>\n",
       "      <td>0.5</td>\n",
       "      <td>0.5</td>\n",
       "      <td>0.0</td>\n",
       "      <td>1.0</td>\n",
       "      <td>1.0</td>\n",
       "      <td>0.5</td>\n",
       "      <td>1.0</td>\n",
       "      <td>1.0</td>\n",
       "      <td>1.0</td>\n",
       "      <td>1.0</td>\n",
       "      <td>1.0</td>\n",
       "      <td>1.0</td>\n",
       "      <td>1.0</td>\n",
       "      <td>2.0</td>\n",
       "      <td>1.0</td>\n",
       "      <td>1.0</td>\n",
       "      <td>0.5</td>\n",
       "      <td>1.0</td>\n",
       "    </tr>\n",
       "    <tr>\n",
       "      <th>Fighting</th>\n",
       "      <td>0.5</td>\n",
       "      <td>0.5</td>\n",
       "      <td>1.0</td>\n",
       "      <td>1.0</td>\n",
       "      <td>2.0</td>\n",
       "      <td>1.0</td>\n",
       "      <td>1.0</td>\n",
       "      <td>2.0</td>\n",
       "      <td>1.0</td>\n",
       "      <td>1.0</td>\n",
       "      <td>1.0</td>\n",
       "      <td>1.0</td>\n",
       "      <td>1.0</td>\n",
       "      <td>1.0</td>\n",
       "      <td>1.0</td>\n",
       "      <td>0.5</td>\n",
       "      <td>1.0</td>\n",
       "      <td>1.0</td>\n",
       "    </tr>\n",
       "    <tr>\n",
       "      <th>Fire</th>\n",
       "      <td>0.5</td>\n",
       "      <td>1.0</td>\n",
       "      <td>1.0</td>\n",
       "      <td>1.0</td>\n",
       "      <td>0.5</td>\n",
       "      <td>1.0</td>\n",
       "      <td>0.5</td>\n",
       "      <td>1.0</td>\n",
       "      <td>1.0</td>\n",
       "      <td>0.5</td>\n",
       "      <td>2.0</td>\n",
       "      <td>0.5</td>\n",
       "      <td>1.0</td>\n",
       "      <td>1.0</td>\n",
       "      <td>1.0</td>\n",
       "      <td>2.0</td>\n",
       "      <td>0.5</td>\n",
       "      <td>2.0</td>\n",
       "    </tr>\n",
       "    <tr>\n",
       "      <th>Flying</th>\n",
       "      <td>0.5</td>\n",
       "      <td>1.0</td>\n",
       "      <td>1.0</td>\n",
       "      <td>2.0</td>\n",
       "      <td>1.0</td>\n",
       "      <td>0.5</td>\n",
       "      <td>1.0</td>\n",
       "      <td>1.0</td>\n",
       "      <td>1.0</td>\n",
       "      <td>0.5</td>\n",
       "      <td>0.0</td>\n",
       "      <td>2.0</td>\n",
       "      <td>1.0</td>\n",
       "      <td>1.0</td>\n",
       "      <td>1.0</td>\n",
       "      <td>2.0</td>\n",
       "      <td>1.0</td>\n",
       "      <td>1.0</td>\n",
       "    </tr>\n",
       "    <tr>\n",
       "      <th>Ghost</th>\n",
       "      <td>0.5</td>\n",
       "      <td>2.0</td>\n",
       "      <td>1.0</td>\n",
       "      <td>1.0</td>\n",
       "      <td>1.0</td>\n",
       "      <td>0.0</td>\n",
       "      <td>1.0</td>\n",
       "      <td>1.0</td>\n",
       "      <td>2.0</td>\n",
       "      <td>1.0</td>\n",
       "      <td>1.0</td>\n",
       "      <td>1.0</td>\n",
       "      <td>0.0</td>\n",
       "      <td>0.5</td>\n",
       "      <td>1.0</td>\n",
       "      <td>1.0</td>\n",
       "      <td>1.0</td>\n",
       "      <td>1.0</td>\n",
       "    </tr>\n",
       "    <tr>\n",
       "      <th>Grass</th>\n",
       "      <td>2.0</td>\n",
       "      <td>1.0</td>\n",
       "      <td>1.0</td>\n",
       "      <td>0.5</td>\n",
       "      <td>1.0</td>\n",
       "      <td>1.0</td>\n",
       "      <td>2.0</td>\n",
       "      <td>2.0</td>\n",
       "      <td>1.0</td>\n",
       "      <td>0.5</td>\n",
       "      <td>0.5</td>\n",
       "      <td>2.0</td>\n",
       "      <td>1.0</td>\n",
       "      <td>2.0</td>\n",
       "      <td>1.0</td>\n",
       "      <td>1.0</td>\n",
       "      <td>1.0</td>\n",
       "      <td>0.5</td>\n",
       "    </tr>\n",
       "    <tr>\n",
       "      <th>Ground</th>\n",
       "      <td>1.0</td>\n",
       "      <td>1.0</td>\n",
       "      <td>1.0</td>\n",
       "      <td>0.0</td>\n",
       "      <td>1.0</td>\n",
       "      <td>1.0</td>\n",
       "      <td>1.0</td>\n",
       "      <td>1.0</td>\n",
       "      <td>1.0</td>\n",
       "      <td>2.0</td>\n",
       "      <td>1.0</td>\n",
       "      <td>2.0</td>\n",
       "      <td>1.0</td>\n",
       "      <td>0.5</td>\n",
       "      <td>2.0</td>\n",
       "      <td>0.5</td>\n",
       "      <td>1.0</td>\n",
       "      <td>2.0</td>\n",
       "    </tr>\n",
       "    <tr>\n",
       "      <th>Ice</th>\n",
       "      <td>1.0</td>\n",
       "      <td>1.0</td>\n",
       "      <td>1.0</td>\n",
       "      <td>1.0</td>\n",
       "      <td>1.0</td>\n",
       "      <td>2.0</td>\n",
       "      <td>2.0</td>\n",
       "      <td>1.0</td>\n",
       "      <td>1.0</td>\n",
       "      <td>1.0</td>\n",
       "      <td>1.0</td>\n",
       "      <td>0.5</td>\n",
       "      <td>1.0</td>\n",
       "      <td>1.0</td>\n",
       "      <td>1.0</td>\n",
       "      <td>2.0</td>\n",
       "      <td>2.0</td>\n",
       "      <td>1.0</td>\n",
       "    </tr>\n",
       "    <tr>\n",
       "      <th>Normal</th>\n",
       "      <td>1.0</td>\n",
       "      <td>1.0</td>\n",
       "      <td>1.0</td>\n",
       "      <td>1.0</td>\n",
       "      <td>1.0</td>\n",
       "      <td>2.0</td>\n",
       "      <td>1.0</td>\n",
       "      <td>1.0</td>\n",
       "      <td>0.0</td>\n",
       "      <td>1.0</td>\n",
       "      <td>1.0</td>\n",
       "      <td>1.0</td>\n",
       "      <td>1.0</td>\n",
       "      <td>1.0</td>\n",
       "      <td>1.0</td>\n",
       "      <td>1.0</td>\n",
       "      <td>1.0</td>\n",
       "      <td>1.0</td>\n",
       "    </tr>\n",
       "    <tr>\n",
       "      <th>Poison</th>\n",
       "      <td>0.5</td>\n",
       "      <td>1.0</td>\n",
       "      <td>1.0</td>\n",
       "      <td>1.0</td>\n",
       "      <td>0.5</td>\n",
       "      <td>0.5</td>\n",
       "      <td>1.0</td>\n",
       "      <td>1.0</td>\n",
       "      <td>1.0</td>\n",
       "      <td>0.5</td>\n",
       "      <td>2.0</td>\n",
       "      <td>1.0</td>\n",
       "      <td>1.0</td>\n",
       "      <td>0.5</td>\n",
       "      <td>2.0</td>\n",
       "      <td>1.0</td>\n",
       "      <td>1.0</td>\n",
       "      <td>1.0</td>\n",
       "    </tr>\n",
       "    <tr>\n",
       "      <th>Psychic</th>\n",
       "      <td>2.0</td>\n",
       "      <td>2.0</td>\n",
       "      <td>1.0</td>\n",
       "      <td>1.0</td>\n",
       "      <td>1.0</td>\n",
       "      <td>0.5</td>\n",
       "      <td>1.0</td>\n",
       "      <td>1.0</td>\n",
       "      <td>2.0</td>\n",
       "      <td>1.0</td>\n",
       "      <td>1.0</td>\n",
       "      <td>1.0</td>\n",
       "      <td>1.0</td>\n",
       "      <td>1.0</td>\n",
       "      <td>0.5</td>\n",
       "      <td>1.0</td>\n",
       "      <td>1.0</td>\n",
       "      <td>1.0</td>\n",
       "    </tr>\n",
       "    <tr>\n",
       "      <th>Rock</th>\n",
       "      <td>1.0</td>\n",
       "      <td>1.0</td>\n",
       "      <td>1.0</td>\n",
       "      <td>1.0</td>\n",
       "      <td>1.0</td>\n",
       "      <td>2.0</td>\n",
       "      <td>0.5</td>\n",
       "      <td>0.5</td>\n",
       "      <td>1.0</td>\n",
       "      <td>2.0</td>\n",
       "      <td>2.0</td>\n",
       "      <td>1.0</td>\n",
       "      <td>0.5</td>\n",
       "      <td>0.5</td>\n",
       "      <td>1.0</td>\n",
       "      <td>1.0</td>\n",
       "      <td>2.0</td>\n",
       "      <td>2.0</td>\n",
       "    </tr>\n",
       "    <tr>\n",
       "      <th>Steel</th>\n",
       "      <td>0.5</td>\n",
       "      <td>1.0</td>\n",
       "      <td>0.5</td>\n",
       "      <td>1.0</td>\n",
       "      <td>0.5</td>\n",
       "      <td>2.0</td>\n",
       "      <td>2.0</td>\n",
       "      <td>0.5</td>\n",
       "      <td>1.0</td>\n",
       "      <td>0.5</td>\n",
       "      <td>2.0</td>\n",
       "      <td>0.5</td>\n",
       "      <td>0.5</td>\n",
       "      <td>0.0</td>\n",
       "      <td>0.5</td>\n",
       "      <td>0.5</td>\n",
       "      <td>0.5</td>\n",
       "      <td>1.0</td>\n",
       "    </tr>\n",
       "    <tr>\n",
       "      <th>Water</th>\n",
       "      <td>1.0</td>\n",
       "      <td>1.0</td>\n",
       "      <td>1.0</td>\n",
       "      <td>2.0</td>\n",
       "      <td>1.0</td>\n",
       "      <td>1.0</td>\n",
       "      <td>0.5</td>\n",
       "      <td>1.0</td>\n",
       "      <td>1.0</td>\n",
       "      <td>2.0</td>\n",
       "      <td>1.0</td>\n",
       "      <td>0.5</td>\n",
       "      <td>1.0</td>\n",
       "      <td>1.0</td>\n",
       "      <td>1.0</td>\n",
       "      <td>1.0</td>\n",
       "      <td>0.5</td>\n",
       "      <td>0.5</td>\n",
       "    </tr>\n",
       "  </tbody>\n",
       "</table>\n",
       "</div>"
      ],
      "text/plain": [
       "          Bug  Dark  Dragon  Electric  Fairy  Fighting  Fire  Flying  Ghost  \\\n",
       "Bug       1.0   1.0     1.0       1.0    1.0       0.5   2.0     2.0    1.0   \n",
       "Dark      2.0   0.5     1.0       1.0    2.0       2.0   1.0     1.0    0.5   \n",
       "Dragon    1.0   1.0     2.0       0.5    2.0       1.0   0.5     1.0    1.0   \n",
       "Electric  1.0   1.0     1.0       0.5    1.0       1.0   1.0     0.5    1.0   \n",
       "Fairy     0.5   0.5     0.0       1.0    1.0       0.5   1.0     1.0    1.0   \n",
       "Fighting  0.5   0.5     1.0       1.0    2.0       1.0   1.0     2.0    1.0   \n",
       "Fire      0.5   1.0     1.0       1.0    0.5       1.0   0.5     1.0    1.0   \n",
       "Flying    0.5   1.0     1.0       2.0    1.0       0.5   1.0     1.0    1.0   \n",
       "Ghost     0.5   2.0     1.0       1.0    1.0       0.0   1.0     1.0    2.0   \n",
       "Grass     2.0   1.0     1.0       0.5    1.0       1.0   2.0     2.0    1.0   \n",
       "Ground    1.0   1.0     1.0       0.0    1.0       1.0   1.0     1.0    1.0   \n",
       "Ice       1.0   1.0     1.0       1.0    1.0       2.0   2.0     1.0    1.0   \n",
       "Normal    1.0   1.0     1.0       1.0    1.0       2.0   1.0     1.0    0.0   \n",
       "Poison    0.5   1.0     1.0       1.0    0.5       0.5   1.0     1.0    1.0   \n",
       "Psychic   2.0   2.0     1.0       1.0    1.0       0.5   1.0     1.0    2.0   \n",
       "Rock      1.0   1.0     1.0       1.0    1.0       2.0   0.5     0.5    1.0   \n",
       "Steel     0.5   1.0     0.5       1.0    0.5       2.0   2.0     0.5    1.0   \n",
       "Water     1.0   1.0     1.0       2.0    1.0       1.0   0.5     1.0    1.0   \n",
       "\n",
       "          Grass  Ground  Ice  Normal  Poison  Psychic  Rock  Steel  Water  \n",
       "Bug         0.5     0.5  1.0     1.0     1.0      1.0   2.0    1.0    1.0  \n",
       "Dark        1.0     1.0  1.0     1.0     1.0      0.0   1.0    1.0    1.0  \n",
       "Dragon      0.5     1.0  2.0     1.0     1.0      1.0   1.0    1.0    0.5  \n",
       "Electric    1.0     2.0  1.0     1.0     1.0      1.0   1.0    0.5    1.0  \n",
       "Fairy       1.0     1.0  1.0     1.0     2.0      1.0   1.0    0.5    1.0  \n",
       "Fighting    1.0     1.0  1.0     1.0     1.0      1.0   0.5    1.0    1.0  \n",
       "Fire        0.5     2.0  0.5     1.0     1.0      1.0   2.0    0.5    2.0  \n",
       "Flying      0.5     0.0  2.0     1.0     1.0      1.0   2.0    1.0    1.0  \n",
       "Ghost       1.0     1.0  1.0     0.0     0.5      1.0   1.0    1.0    1.0  \n",
       "Grass       0.5     0.5  2.0     1.0     2.0      1.0   1.0    1.0    0.5  \n",
       "Ground      2.0     1.0  2.0     1.0     0.5      2.0   0.5    1.0    2.0  \n",
       "Ice         1.0     1.0  0.5     1.0     1.0      1.0   2.0    2.0    1.0  \n",
       "Normal      1.0     1.0  1.0     1.0     1.0      1.0   1.0    1.0    1.0  \n",
       "Poison      0.5     2.0  1.0     1.0     0.5      2.0   1.0    1.0    1.0  \n",
       "Psychic     1.0     1.0  1.0     1.0     1.0      0.5   1.0    1.0    1.0  \n",
       "Rock        2.0     2.0  1.0     0.5     0.5      1.0   1.0    2.0    2.0  \n",
       "Steel       0.5     2.0  0.5     0.5     0.0      0.5   0.5    0.5    1.0  \n",
       "Water       2.0     1.0  0.5     1.0     1.0      1.0   1.0    0.5    0.5  "
      ]
     },
     "execution_count": 14,
     "metadata": {},
     "output_type": "execute_result"
    }
   ],
   "source": [
    "Normal = {\"Normal\": 1, \"Fighting\": 1, \"Poison\": 1, \"Ground\": 1, \"Flying\": 1, \"Bug\": 1, \"Rock\": 0.5, \"Ghost\": 0, \"Steel\": 0.5, \"Fire\": 1, \"Water\": 1, \"Electric\": 1, \"Grass\": 1, \"Ice\": 1, \"Psychic\": 1, \"Dragon\": 1, \"Dark\": 1, \"Fairy\": 1}\n",
    "Fighting = {\"Normal\": 2, \"Fighting\": 1, \"Poison\": 0.5, \"Ground\": 1, \"Flying\": 0.5, \"Bug\": 0.5, \"Rock\": 2, \"Ghost\": 0, \"Steel\": 2, \"Fire\": 1, \"Water\": 1, \"Electric\": 1, \"Grass\": 1, \"Ice\": 2, \"Psychic\": 0.5, \"Dragon\": 1, \"Dark\": 2, \"Fairy\": 0.5}\n",
    "Poison = {\"Normal\": 1, \"Fighting\": 1, \"Poison\": 0.5, \"Ground\": 0.5, \"Flying\": 1, \"Bug\": 1, \"Rock\": 0.5, \"Ghost\": 0.5, \"Steel\": 0, \"Fire\": 1, \"Water\": 1, \"Electric\": 1, \"Grass\": 2, \"Ice\": 1, \"Psychic\": 1, \"Dragon\": 1, \"Dark\": 1, \"Fairy\": 2}\n",
    "Ground = {\"Normal\": 1, \"Fighting\": 1, \"Poison\": 2, \"Ground\": 1, \"Flying\": 0, \"Bug\": 0.5, \"Rock\": 2, \"Ghost\": 1, \"Steel\": 2, \"Fire\": 2, \"Water\": 1, \"Electric\": 2, \"Grass\": 0.5, \"Ice\": 1, \"Psychic\": 1, \"Dragon\": 1, \"Dark\": 1, \"Fairy\": 1}\n",
    "Flying = {\"Normal\": 1, \"Fighting\": 2, \"Poison\": 1, \"Ground\": 1, \"Flying\": 1, \"Bug\": 2, \"Rock\": 0.5, \"Ghost\": 1, \"Steel\": 0.5, \"Fire\": 1, \"Water\": 1, \"Electric\": 0.5, \"Grass\": 2, \"Ice\": 1, \"Psychic\": 1, \"Dragon\": 1, \"Dark\": 1, \"Fairy\": 1}\n",
    "Bug = {\"Normal\": 1, \"Fighting\": 0.5, \"Poison\": 0.5, \"Ground\": 1, \"Flying\": 0.5, \"Bug\": 1, \"Rock\": 1, \"Ghost\": 0.5, \"Steel\": 0.5, \"Fire\": 0.5, \"Water\": 1, \"Electric\": 1, \"Grass\": 2, \"Ice\": 1, \"Psychic\": 2, \"Dragon\": 1, \"Dark\": 2, \"Fairy\": 0.5}\n",
    "Rock = {\"Normal\": 1, \"Fighting\": 0.5, \"Poison\": 1, \"Ground\": 0.5, \"Flying\": 2, \"Bug\": 2, \"Rock\": 1, \"Ghost\": 1, \"Steel\": 0.5, \"Fire\": 2, \"Water\": 1, \"Electric\": 1, \"Grass\": 1, \"Ice\": 2, \"Psychic\": 1, \"Dragon\": 1, \"Dark\": 1, \"Fairy\": 1}\n",
    "Ghost = {\"Normal\": 0, \"Fighting\": 1, \"Poison\": 1, \"Ground\": 1, \"Flying\": 1, \"Bug\": 1, \"Rock\": 1, \"Ghost\": 2, \"Steel\": 1, \"Fire\": 1, \"Water\": 1, \"Electric\": 1, \"Grass\": 1, \"Ice\": 1, \"Psychic\": 2, \"Dragon\": 1, \"Dark\": 0.5, \"Fairy\": 1}\n",
    "Steel = {\"Normal\": 1, \"Fighting\": 1, \"Poison\": 1, \"Ground\": 1, \"Flying\": 1, \"Bug\": 1, \"Rock\": 2, \"Ghost\": 1, \"Steel\": 0.5, \"Fire\": 0.5, \"Water\": 0.5, \"Electric\": 0.5, \"Grass\": 1, \"Ice\": 2, \"Psychic\": 1, \"Dragon\": 1, \"Dark\": 1, \"Fairy\": 0.5}\n",
    "Fire = {\"Normal\": 1, \"Fighting\": 1, \"Poison\": 1, \"Ground\": 1, \"Flying\": 1, \"Bug\": 2, \"Rock\": 0.5, \"Ghost\": 1, \"Steel\": 2, \"Fire\": 0.5, \"Water\": 0.5, \"Electric\": 1, \"Grass\": 2, \"Ice\": 2, \"Psychic\": 1, \"Dragon\": 0.5, \"Dark\": 1, \"Fairy\": 1}\n",
    "Water = {\"Normal\": 1, \"Fighting\": 1, \"Poison\": 1, \"Ground\": 2, \"Flying\": 1, \"Bug\": 1, \"Rock\": 2, \"Ghost\": 1, \"Steel\": 1, \"Fire\": 2, \"Water\": 0.5, \"Electric\": 1, \"Grass\": 0.5, \"Ice\": 1, \"Psychic\": 1, \"Dragon\": 0.5, \"Dark\": 1, \"Fairy\": 1}\n",
    "Electric = {\"Normal\": 1, \"Fighting\": 1, \"Poison\": 1, \"Ground\": 0, \"Flying\": 2, \"Bug\": 1, \"Rock\": 1, \"Ghost\": 1, \"Steel\": 1, \"Fire\": 1, \"Water\": 2, \"Electric\": 0.5, \"Grass\": 0.5, \"Ice\": 1, \"Psychic\": 1, \"Dragon\": 0.5, \"Dark\": 1, \"Fairy\": 1}\n",
    "Grass = {\"Normal\": 1, \"Fighting\": 1, \"Poison\": 0.5, \"Ground\": 2, \"Flying\": 0.5, \"Bug\": 0.5, \"Rock\": 2, \"Ghost\": 1, \"Steel\": 0.5, \"Fire\": 0.5, \"Water\": 2, \"Electric\": 1, \"Grass\": 0.5, \"Ice\": 1, \"Psychic\": 1, \"Dragon\": 0.5, \"Dark\": 1, \"Fairy\": 1}\n",
    "Ice = {\"Normal\": 1, \"Fighting\": 1, \"Poison\": 1, \"Ground\": 2, \"Flying\": 2, \"Bug\": 1, \"Rock\": 1, \"Ghost\": 1, \"Steel\": 0.5, \"Fire\": 0.5, \"Water\": 0.5, \"Electric\": 1, \"Grass\": 2, \"Ice\": 0.5, \"Psychic\": 1, \"Dragon\": 2, \"Dark\": 1, \"Fairy\": 1}\n",
    "Psychic = {\"Normal\": 1, \"Fighting\": 1, \"Poison\": 2, \"Ground\": 2, \"Flying\": 1, \"Bug\": 1, \"Rock\": 1, \"Ghost\": 1, \"Steel\": 0.5, \"Fire\": 1, \"Water\": 1, \"Electric\": 1, \"Grass\": 1, \"Ice\": 1, \"Psychic\": 0.5, \"Dragon\": 1, \"Dark\": 0, \"Fairy\": 1}\n",
    "Dragon = {\"Normal\": 1, \"Fighting\": 1, \"Poison\": 1, \"Ground\": 1, \"Flying\": 1, \"Bug\": 1, \"Rock\": 1, \"Ghost\": 1, \"Steel\": 0.5, \"Fire\": 1, \"Water\": 1, \"Electric\": 1, \"Grass\": 1, \"Ice\": 1, \"Psychic\": 1, \"Dragon\": 2, \"Dark\": 1, \"Fairy\": 0}\n",
    "Dark = {\"Normal\": 1, \"Fighting\": 0.5, \"Poison\": 1, \"Ground\": 1, \"Flying\": 1, \"Bug\": 1, \"Rock\": 1, \"Ghost\": 2, \"Steel\": 1, \"Fire\": 1, \"Water\": 1, \"Electric\": 1, \"Grass\": 1, \"Ice\": 1, \"Psychic\": 2, \"Dragon\": 1, \"Dark\": 0.5, \"Fairy\": 0.5}\n",
    "Fairy = {\"Normal\": 1, \"Fighting\": 2, \"Poison\": 0.5, \"Ground\": 1, \"Flying\": 1, \"Bug\": 1, \"Rock\": 1, \"Ghost\": 1, \"Steel\": 0.5, \"Fire\": 0.5, \"Water\": 1, \"Electric\": 1, \"Grass\": 1, \"Ice\": 1, \"Psychic\": 1, \"Dragon\": 2, \"Dark\": 2, \"Fairy\": 1}\n",
    "\n",
    "type_relation = {\"Normal\": Normal, \"Fighting\": Fighting, \"Poison\": Poison, \"Ground\": Ground, \"Flying\": Flying, \"Bug\": Bug, \"Rock\": Rock, \"Ghost\": Ghost, \"Steel\": Steel, \"Fire\": Fire, \"Water\": Water, \"Electric\": Electric, \"Grass\": Grass, \"Ice\": Ice, \"Psychic\": Psychic, \"Dragon\": Dragon, \"Dark\": Dark, \"Fairy\": Fairy}\n",
    "df_type_relation = pd.DataFrame(type_relation)\n",
    "print (\"Row is Diffender, Column is Attacker\")\n",
    "df_type_relation"
   ]
  },
  {
   "cell_type": "markdown",
   "metadata": {
    "_cell_guid": "76dbe88f-1f0c-40d9-9ca7-209737a8108c",
    "_uuid": "a1eeb72c018609e81d8a45606196072cee256be6"
   },
   "source": [
    "Make \"Type\" column which shows type advantage as a numeric. \"0\" shows no damage will be changed to 0.25 not to become zero when it be multipled. "
   ]
  },
  {
   "cell_type": "code",
   "execution_count": 15,
   "metadata": {
    "_cell_guid": "ace5b195-20e9-49ba-9360-f8c9df803ff0",
    "_uuid": "38b32130ad5a617f9875e07c75c751a3f006c633",
    "collapsed": true
   },
   "outputs": [
    {
     "name": "stdout",
     "output_type": "stream",
     "text": [
      "count    50000.000000\n",
      "mean         1.146062\n",
      "std          0.869392\n",
      "min          0.031250\n",
      "25%          0.500000\n",
      "50%          1.000000\n",
      "75%          1.000000\n",
      "max         16.000000\n",
      "Name: Relation, dtype: float64\n"
     ]
    },
    {
     "data": {
      "image/png": "[encoded data removed]",
      "text/plain": [
       "<matplotlib.figure.Figure at 0x7f31770ca9b0>"
      ]
     },
     "metadata": {},
     "output_type": "display_data"
    }
   ],
   "source": [
    "pokemon[\"Type\"] = pokemon.apply(lambda x: x[\"Type 1\"]+\"/\"+x[\"Type 2\"], axis=1)\n",
    "type_dict = dict(zip(pokemon['#'], pokemon['Type']))\n",
    "combats_type = combats[cols].replace(type_dict)\n",
    "combats_type[\"Loser\"] = combats_type.apply(lambda x: x[\"First_pokemon\"] if x[\"First_pokemon\"] !=  x[\"Winner\"] else x[\"Second_pokemon\"], axis = 1)\n",
    "\n",
    "zero_dict = {0: 0.25}\n",
    "df_type_relation = df_type_relation[:].replace(zero_dict)\n",
    "\n",
    "def calcRelation(combats_type):\n",
    "    r0 = 1\n",
    "    win_type1 = combats_type[\"Winner\"].split(\"/\")[0]\n",
    "    win_type2 = combats_type[\"Winner\"].split(\"/\")[1]\n",
    "    lose_type1 = combats_type[\"Loser\"].split(\"/\")[0]\n",
    "    lose_type2 = combats_type[\"Loser\"].split(\"/\")[1]\n",
    "    if win_type2 != \"None\" and lose_type2 != \"None\":\n",
    "        r1 = df_type_relation[win_type1][lose_type1]\n",
    "        r2 = df_type_relation[win_type1][lose_type2]\n",
    "        r3 = df_type_relation[win_type2][lose_type1]\n",
    "        r4 = df_type_relation[win_type2][lose_type2]\n",
    "        r = r0 * r1 * r2 * r3 * r4\n",
    "    elif win_type2 != \"None\" and lose_type2 == \"None\":\n",
    "        r1 = df_type_relation[win_type1][lose_type1]\n",
    "        r3 = df_type_relation[win_type2][lose_type1]\n",
    "        r = r0 * r1 * r3\n",
    "    elif win_type2 == \"None\" and lose_type2 != \"None\":\n",
    "        r1 = df_type_relation[win_type1][lose_type1]\n",
    "        r2 = df_type_relation[win_type1][lose_type2]\n",
    "        r = r0 * r1 * r2\n",
    "    elif win_type2 == \"None\" and lose_type2 == \"None\":\n",
    "        r1 = df_type_relation[win_type1][lose_type1]\n",
    "        r = r0 * r1\n",
    "    return r\n",
    "\n",
    "combats_type[\"Relation\"] = combats_type.apply(lambda x: calcRelation(x), axis = 1)\n",
    "print (combats_type[\"Relation\"].describe())\n",
    "sns.distplot(combats_type[\"Relation\"])\n",
    "plt.show()"
   ]
  },
  {
   "cell_type": "markdown",
   "metadata": {
    "_cell_guid": "98b50db3-328e-46ad-83e4-74fab56f3312",
    "_uuid": "a27c8c00cbe7f6b7a6984eca08b3ca73456383a1"
   },
   "source": [
    "The Distribution of Type advantage number doesn't have a very distinctive features."
   ]
  },
  {
   "cell_type": "markdown",
   "metadata": {
    "_cell_guid": "1816ea7c-4701-4ab8-9be0-e618ea93a93f",
    "_uuid": "940912a12ece9bb3453955a8ab4d91b385c60e10"
   },
   "source": [
    "##### 1-4. What pokemon have most high percentage of winning?\n",
    "Firstly, Check \"What pokemon appears high frequency in \"Winner\" colummns?\" by using wordcloud."
   ]
  },
  {
   "cell_type": "code",
   "execution_count": 16,
   "metadata": {
    "_cell_guid": "aaff79bd-0b82-4072-89d8-3fc8acc84d6d",
    "_kg_hide-input": false,
    "_kg_hide-output": false,
    "_uuid": "5a03c1300aa86e9df0caee7ce154756818016cdb",
    "collapsed": true
   },
   "outputs": [
    {
     "name": "stdout",
     "output_type": "stream",
     "text": [
      "Mewtwo                152\n",
      "Aerodactyl            136\n",
      "Infernape             136\n",
      "Jirachi               134\n",
      "Slaking               133\n",
      "Deoxys Speed Forme    133\n",
      "Murkrow               130\n",
      "Mega Absol            130\n",
      "Mega Houndoom         128\n",
      "Mega Rayquaza         127\n",
      "Name: Winner, dtype: int64\n"
     ]
    },
    {
     "data": {
      "image/png": "[encoded data removed]",
      "text/plain": [
       "<matplotlib.figure.Figure at 0x7f3176b1b390>"
      ]
     },
     "metadata": {},
     "output_type": "display_data"
    }
   ],
   "source": [
    "import numpy as np\n",
    "from wordcloud import WordCloud, ImageColorGenerator\n",
    "from PIL import Image\n",
    "\n",
    "combats_names = combats[cols].replace(names_dict)\n",
    "print (combats_names[\"Winner\"].value_counts()[:10])\n",
    "winners = list(combats_names[\"Winner\"])\n",
    "winners_str = [str(i) for i in winners]\n",
    "winners_text = (\",\").join(winners_str)\n",
    "wc = WordCloud(background_color= \"black\", random_state=1, margin=3).generate(winners_text)\n",
    "plt.figure(figsize=(10,10))\n",
    "plt.axis(\"off\")\n",
    "plt.imshow(wc, interpolation='bilinear')\n",
    "plt.show()"
   ]
  },
  {
   "cell_type": "markdown",
   "metadata": {
    "_cell_guid": "13f332b4-37cf-4099-8728-e786291e7bab",
    "_uuid": "fae8b20de706c4ec5dbcbf09b52dd18717bfb927"
   },
   "source": [
    "On WordCloud image, Therian Forme and Incarnate Forme are biggest characters. They are common forme to 3 pokemon \"Tornadus\", \"Thundurus\", and \"Landorus\"."
   ]
  },
  {
   "cell_type": "markdown",
   "metadata": {
    "_cell_guid": "81728884-e160-44cf-88f7-8d595e51bdad",
    "_uuid": "1f0a953d86700b67633bf5995a892fc6661f3421"
   },
   "source": [
    "<img src=\"https://lh3.googleusercontent.com/gcJ-QWslS3cyTlEoOr4Gwd1xmXkiB_7m0bM7ZK6VItyAtcSPW7tGooMym-2ZRSXTFkTEFxl9TC5yBxTmiZKABH7P5pb3RvfBuIXdcwMZLCnRn6VXvtK_FePyRYJ48_UQHS5zynCWOjIkNNzwlJWxQMJaqvJOx1bamdd5IjqkmHW-du_RdV2yLe9AJzMdV563CHA87UeHfc30Tn0QCwlBQ9WN5kc_lx2aI8sY25bKaVmSuAEHjjffvUI1dLURJORhAsvcBy8oRegKJGhGslF_AImlFB3mSkwGZ86AcLCiptRheaaiOpjQVi5l0NjwgvAla-lp1tUbDA22IQLcXZugWd3dQFe9TsB7UXQJFJlDQu4nPknjUGhkBOcT72Dg9xkmAn_mMg6tWFRefX1y0MULL43M2oa0RU69_N1yWBctChuAx1T_iJAeiVNQigXZ9UTjg-5UT_6czNrnCtZTIStSTxmZ1ePNNkV1yK14nlAAdjzJ-_cQb5eRaoqM8mk10pxl0ADpMezL8WGiZ4MJSYY5kQqHlsm9Z_zujJR2kwHrwIbZUfjkuz3PyPlOQfK7RcDcyGL8moMhIHZkFyB7yNYt5LEnZMzPXvxlNhETBEMsLw=w657-h240-no\">"
   ]
  },
  {
   "cell_type": "markdown",
   "metadata": {
    "_cell_guid": "c2e6bc42-e017-4a56-85d2-4e47d7d2b126",
    "_uuid": "47293c3272cf8b1ceb979479c9a3e95595443c9f"
   },
   "source": [
    "Best 10 winning pokemons are Mewtwo, Aerodactyl, Infernape, Jirachi, Deoxys Speed Forme, Slaking, Murkrow, Mega Absol, Mega Houndoom, Mega Aerodactyl.\n",
    "However, I want to know pokemons have high winning percentage."
   ]
  },
  {
   "cell_type": "code",
   "execution_count": 17,
   "metadata": {
    "_cell_guid": "4bee9225-6184-47dc-bff2-7707f1da5da6",
    "_uuid": "80abf9f421a531039d371398112c6bd0223968fd",
    "collapsed": true
   },
   "outputs": [
    {
     "data": {
      "text/html": [
       "<div>\n",
       "<style>\n",
       "    .dataframe thead tr:only-child th {\n",
       "        text-align: right;\n",
       "    }\n",
       "\n",
       "    .dataframe thead th {\n",
       "        text-align: left;\n",
       "    }\n",
       "\n",
       "    .dataframe tbody tr th {\n",
       "        vertical-align: top;\n",
       "    }\n",
       "</style>\n",
       "<table border=\"1\" class=\"dataframe\">\n",
       "  <thead>\n",
       "    <tr style=\"text-align: right;\">\n",
       "      <th></th>\n",
       "      <th>battle</th>\n",
       "      <th>win</th>\n",
       "      <th>ratio</th>\n",
       "    </tr>\n",
       "  </thead>\n",
       "  <tbody>\n",
       "    <tr>\n",
       "      <th>Mega Aerodactyl</th>\n",
       "      <td>129</td>\n",
       "      <td>127.0</td>\n",
       "      <td>0.984496</td>\n",
       "    </tr>\n",
       "    <tr>\n",
       "      <th>Weavile</th>\n",
       "      <td>119</td>\n",
       "      <td>116.0</td>\n",
       "      <td>0.974790</td>\n",
       "    </tr>\n",
       "    <tr>\n",
       "      <th>Tornadus Therian Forme</th>\n",
       "      <td>125</td>\n",
       "      <td>121.0</td>\n",
       "      <td>0.968000</td>\n",
       "    </tr>\n",
       "    <tr>\n",
       "      <th>Mega Beedrill</th>\n",
       "      <td>119</td>\n",
       "      <td>115.0</td>\n",
       "      <td>0.966387</td>\n",
       "    </tr>\n",
       "    <tr>\n",
       "      <th>Aerodactyl</th>\n",
       "      <td>141</td>\n",
       "      <td>136.0</td>\n",
       "      <td>0.964539</td>\n",
       "    </tr>\n",
       "    <tr>\n",
       "      <th>Mega Lopunny</th>\n",
       "      <td>129</td>\n",
       "      <td>124.0</td>\n",
       "      <td>0.961240</td>\n",
       "    </tr>\n",
       "    <tr>\n",
       "      <th>Greninja</th>\n",
       "      <td>127</td>\n",
       "      <td>122.0</td>\n",
       "      <td>0.960630</td>\n",
       "    </tr>\n",
       "    <tr>\n",
       "      <th>Meloetta Pirouette Forme</th>\n",
       "      <td>123</td>\n",
       "      <td>118.0</td>\n",
       "      <td>0.959350</td>\n",
       "    </tr>\n",
       "    <tr>\n",
       "      <th>Mega Mewtwo Y</th>\n",
       "      <td>125</td>\n",
       "      <td>119.0</td>\n",
       "      <td>0.952000</td>\n",
       "    </tr>\n",
       "    <tr>\n",
       "      <th>Mega Sharpedo</th>\n",
       "      <td>120</td>\n",
       "      <td>114.0</td>\n",
       "      <td>0.950000</td>\n",
       "    </tr>\n",
       "  </tbody>\n",
       "</table>\n",
       "</div>"
      ],
      "text/plain": [
       "                          battle    win     ratio\n",
       "Mega Aerodactyl              129  127.0  0.984496\n",
       "Weavile                      119  116.0  0.974790\n",
       "Tornadus Therian Forme       125  121.0  0.968000\n",
       "Mega Beedrill                119  115.0  0.966387\n",
       "Aerodactyl                   141  136.0  0.964539\n",
       "Mega Lopunny                 129  124.0  0.961240\n",
       "Greninja                     127  122.0  0.960630\n",
       "Meloetta Pirouette Forme     123  118.0  0.959350\n",
       "Mega Mewtwo Y                125  119.0  0.952000\n",
       "Mega Sharpedo                120  114.0  0.950000"
      ]
     },
     "execution_count": 17,
     "metadata": {},
     "output_type": "execute_result"
    }
   ],
   "source": [
    "first_num = combats_names[\"First_pokemon\"].value_counts()\n",
    "second_num = combats_names[\"Second_pokemon\"].value_counts()\n",
    "battle_num = first_num + second_num\n",
    "battle_win = pd.DataFrame({\"battle\": battle_num, \"win\": combats_names[\"Winner\"].value_counts()}, columns=[\"battle\", \"win\"])\n",
    "battle_win[\"ratio\"] = battle_win[\"win\"]/battle_win[\"battle\"]\n",
    "battle_win.sort_values(by=[\"ratio\"], ascending=False).head(10)"
   ]
  },
  {
   "cell_type": "markdown",
   "metadata": {
    "_cell_guid": "8aa7a091-087a-49d6-a1d5-c1d6a1a0693e",
    "_uuid": "a388088f992e7ffcea994d5355b01384dd2246f5"
   },
   "source": [
    "Best 10 winning percentage pokemons are Mega Aerodactyl, Weavile, Tornadus Therian Forme, Mega Beedrill, Aerodactyl, Mega Lopunny, Greninja, Meloetta Pirouette Forme, Mega Mewtwo Y, Mega Sharpedo."
   ]
  },
  {
   "cell_type": "markdown",
   "metadata": {
    "_cell_guid": "e4a9e74d-ebc8-42d6-b376-5d8f6608d007",
    "_uuid": "944e93de753882acf941d0e91dc8ebc49aca9e1f"
   },
   "source": [
    "<img src=\"https://lh3.googleusercontent.com/H47JXVJoRxU2_jdPU8MPQHkKREVsNpgoU3e07EkYBnFvWaE9xTLW6NCcM7vjSW3Mpot2_8kv5eN0MTJVbGK0yZWPEkY_apbgN_LpMHCNE22kpED5GY8XaaDh0GJYwBkMK9VUHy6mVxxupVVtInCLcilX61kBiTkDEV984ScRxTCPxaatbdRlr9XndX5AM_BSOejC3_bj7RxaQAh_-NnDCDiLOUByJm_xrAJXjAqFEA4sYCaOIlroelQ2A1J3wn0avXqpe5EoHvL148wJliynOxyuK4e-A1XVDwirbGhxXXk6eBIfa2i_YAQVFFoDJfmwylbu41DiC7TkGMO3NA0nu1Ud7OSbReLei3rSDBQOafDzKRwfPzWGcQGRg8nRMFV_ypL6xOa5YMH8hapQqZ07RRFpjH04DqbSiZDdY2WHXIT27ns4mi4Ls8gRDyJpb4denSXmYuoAMYUGM6rffiUL3fnHgx8Ok4Jpu89bA0ELzNVZVnceaUlmUNPEOfGOzgm7mdA_ZeC95QVpxiDjY6OyPK0SOIJh5t0YZAOb-ITJARGEsVLKVbTfa7aU0DdSei-8xI9iIu5oL_I36I2irNjrz7VU2zmiRyo6tJBixxnNXQ=w720-h358-no\">"
   ]
  },
  {
   "cell_type": "markdown",
   "metadata": {
    "_cell_guid": "0cc4236d-ce29-4fb6-9ffc-df9e42fc9887",
    "_uuid": "da817be3ac3ce4c8ee7c7226552bdcbd14d20b54"
   },
   "source": [
    "#### 2. Data Cleansing & Predicting\n",
    "\n",
    "##### 2-1. Completing Data"
   ]
  },
  {
   "cell_type": "code",
   "execution_count": 18,
   "metadata": {
    "_cell_guid": "571e03fc-cdba-4815-9e5b-8dfc5f25f7ff",
    "_uuid": "9ed208c1dbca71fae1616fb924d3206422629384",
    "collapsed": true
   },
   "outputs": [
    {
     "name": "stdout",
     "output_type": "stream",
     "text": [
      "<class 'pandas.core.frame.DataFrame'>\n",
      "Index: 783 entries, Abomasnow to Zygarde Half Forme\n",
      "Data columns (total 3 columns):\n",
      "battle    783 non-null int64\n",
      "win       782 non-null float64\n",
      "ratio     782 non-null float64\n",
      "dtypes: float64(2), int64(1)\n",
      "memory usage: 24.5+ KB\n"
     ]
    }
   ],
   "source": [
    "battle_win.info()"
   ]
  },
  {
   "cell_type": "markdown",
   "metadata": {
    "_cell_guid": "53d17cef-98e6-481e-9e54-880cd67ab5be",
    "_uuid": "15ed6eb46107653a7bd622a9ed0f97c6afa19fa1"
   },
   "source": [
    "On above information, there are 783 pokemons. It's not 800. 17 pokemons didn't experience a battle.\n",
    "And 1 pokemon of 783 pokemons doesn't have win and ration values."
   ]
  },
  {
   "cell_type": "code",
   "execution_count": 19,
   "metadata": {
    "_cell_guid": "debc2fdb-2140-43f7-ab49-a1ca2f3a2a75",
    "_uuid": "82059f74a3038168fc7bd1e3a903fca88fe36fd9",
    "collapsed": true
   },
   "outputs": [
    {
     "data": {
      "text/html": [
       "<div>\n",
       "<style>\n",
       "    .dataframe thead tr:only-child th {\n",
       "        text-align: right;\n",
       "    }\n",
       "\n",
       "    .dataframe thead th {\n",
       "        text-align: left;\n",
       "    }\n",
       "\n",
       "    .dataframe tbody tr th {\n",
       "        vertical-align: top;\n",
       "    }\n",
       "</style>\n",
       "<table border=\"1\" class=\"dataframe\">\n",
       "  <thead>\n",
       "    <tr style=\"text-align: right;\">\n",
       "      <th></th>\n",
       "      <th>battle</th>\n",
       "      <th>win</th>\n",
       "      <th>ratio</th>\n",
       "    </tr>\n",
       "  </thead>\n",
       "  <tbody>\n",
       "    <tr>\n",
       "      <th>Shuckle</th>\n",
       "      <td>135</td>\n",
       "      <td>NaN</td>\n",
       "      <td>NaN</td>\n",
       "    </tr>\n",
       "  </tbody>\n",
       "</table>\n",
       "</div>"
      ],
      "text/plain": [
       "         battle  win  ratio\n",
       "Shuckle     135  NaN    NaN"
      ]
     },
     "execution_count": 19,
     "metadata": {},
     "output_type": "execute_result"
    }
   ],
   "source": [
    "battle_win[battle_win[\"win\"].isnull()]"
   ]
  },
  {
   "cell_type": "markdown",
   "metadata": {
    "_cell_guid": "91cfe797-73b1-40b3-976a-e74e25db34d7",
    "_uuid": "9330f904aa7492aef22a39802c01017a3eb88e16"
   },
   "source": [
    "<img src=\"https://lh3.googleusercontent.com/RMxE6M4avryHEEmBSIyQWAppHrRsxAJaiqRfUSqXsCQmV5aZd1t6RY_iLS27fSZKcjzhVfiFJX3od2lrtDzdrgqMilgXSCdqdeYRRi5je8-RYHyj1bLM-7HKrwtGicgpgS4tmPt0QQK5IDR2h_fmBkiM8Z2Pa91iVqFgbODYcSpPoIN6GpVrFZb5_6MuMOFHPdtrJBWVoKBkY1943JK8CKcXotepYS8wE_aDdt8QTxThL5T_3RoVxSajEtJaOcXmtovJiFrSEUrCiIw3aZ3hIhWyhQ1OfIsdsakPcM3WVJjfMt1_neaxE5OyxZUt0Ato6ChBggGrXRdUsgGlWou5SrThVyTFIflLl8Q7-xjUAHXVSqpyW93WaSbihaG96ejZehMoy8VDOYWkg4AQPugzWVY4DDv7cHDpxMAl2PzACA6HRxPVxmwypBwU-57CyKNqenZzWUo-ZUOTVk-0kyBvVj8i3f-Anqx0piVpDSf7NHEtqOYgTMUI4nCLDrB9cN9iWkVLrHji7tOX6QZ_8lhXjJSrOfVNUw75jvF-JUXc9pKUBbOkYSqYDyBOmN6LHjfKN9uRxV-qK-JUNZU1Q158FMvc9hsW_Tu8SMZDMid8MA=s500-no\" width=30%>"
   ]
  },
  {
   "cell_type": "markdown",
   "metadata": {
    "_cell_guid": "774847db-90d4-4b61-a75e-11171db2a384",
    "_uuid": "d1c165f6e2cc284078d2f725af1614727b80103f"
   },
   "source": [
    "Shuckle has experienced 135 battles, but could not experience winning. Fill zero value to \"win\" and \"ratio\" column of Shuckle."
   ]
  },
  {
   "cell_type": "code",
   "execution_count": 20,
   "metadata": {
    "_cell_guid": "eeea7f9e-2ce5-453b-a545-e38eaa83766c",
    "_uuid": "ae26346f0f4a98ea34f74595813530c61dd0a543",
    "collapsed": true
   },
   "outputs": [
    {
     "data": {
      "text/html": [
       "<div>\n",
       "<style>\n",
       "    .dataframe thead tr:only-child th {\n",
       "        text-align: right;\n",
       "    }\n",
       "\n",
       "    .dataframe thead th {\n",
       "        text-align: left;\n",
       "    }\n",
       "\n",
       "    .dataframe tbody tr th {\n",
       "        vertical-align: top;\n",
       "    }\n",
       "</style>\n",
       "<table border=\"1\" class=\"dataframe\">\n",
       "  <thead>\n",
       "    <tr style=\"text-align: right;\">\n",
       "      <th></th>\n",
       "      <th>battle</th>\n",
       "      <th>win</th>\n",
       "      <th>ratio</th>\n",
       "    </tr>\n",
       "  </thead>\n",
       "  <tbody>\n",
       "    <tr>\n",
       "      <th>Shuckle</th>\n",
       "      <td>135</td>\n",
       "      <td>0.0</td>\n",
       "      <td>0.0</td>\n",
       "    </tr>\n",
       "  </tbody>\n",
       "</table>\n",
       "</div>"
      ],
      "text/plain": [
       "         battle  win  ratio\n",
       "Shuckle     135  0.0    0.0"
      ]
     },
     "execution_count": 20,
     "metadata": {},
     "output_type": "execute_result"
    }
   ],
   "source": [
    "battle_win.loc[\"Shuckle\", [\"win\", \"ratio\"]] = 0\n",
    "battle_win[battle_win.index==\"Shuckle\"]"
   ]
  },
  {
   "cell_type": "markdown",
   "metadata": {
    "_cell_guid": "3bdea259-6709-4460-acde-c372f650b8ab",
    "_uuid": "0f02268e0f6f4e279eb13667d3f144f07591004f"
   },
   "source": [
    "Next, to complete data of 17 pokemons didn't experience a battle, untize pokemon dataframe with winning ratio. "
   ]
  },
  {
   "cell_type": "code",
   "execution_count": 21,
   "metadata": {
    "_cell_guid": "32b12c8b-71dc-47ab-bdbf-c0ae9735c7ea",
    "_uuid": "979b3f00b229caa1ebe1fd107c34d41ce169746d",
    "collapsed": true
   },
   "outputs": [
    {
     "data": {
      "text/html": [
       "<div>\n",
       "<style>\n",
       "    .dataframe thead tr:only-child th {\n",
       "        text-align: right;\n",
       "    }\n",
       "\n",
       "    .dataframe thead th {\n",
       "        text-align: left;\n",
       "    }\n",
       "\n",
       "    .dataframe tbody tr th {\n",
       "        vertical-align: top;\n",
       "    }\n",
       "</style>\n",
       "<table border=\"1\" class=\"dataframe\">\n",
       "  <thead>\n",
       "    <tr style=\"text-align: right;\">\n",
       "      <th></th>\n",
       "      <th>#</th>\n",
       "      <th>Name</th>\n",
       "      <th>Type 1</th>\n",
       "      <th>Type 2</th>\n",
       "      <th>HP</th>\n",
       "      <th>Attack</th>\n",
       "      <th>Defense</th>\n",
       "      <th>Sp. Atk</th>\n",
       "      <th>Sp. Def</th>\n",
       "      <th>Speed</th>\n",
       "      <th>Generation</th>\n",
       "      <th>Legendary</th>\n",
       "      <th>stats_sum</th>\n",
       "      <th>Type</th>\n",
       "      <th>ratio</th>\n",
       "    </tr>\n",
       "  </thead>\n",
       "  <tbody>\n",
       "    <tr>\n",
       "      <th>0</th>\n",
       "      <td>1</td>\n",
       "      <td>Bulbasaur</td>\n",
       "      <td>Grass</td>\n",
       "      <td>Poison</td>\n",
       "      <td>45</td>\n",
       "      <td>49</td>\n",
       "      <td>49</td>\n",
       "      <td>65</td>\n",
       "      <td>65</td>\n",
       "      <td>45</td>\n",
       "      <td>1</td>\n",
       "      <td>False</td>\n",
       "      <td>318</td>\n",
       "      <td>Grass/Poison</td>\n",
       "      <td>0.278195</td>\n",
       "    </tr>\n",
       "    <tr>\n",
       "      <th>1</th>\n",
       "      <td>2</td>\n",
       "      <td>Ivysaur</td>\n",
       "      <td>Grass</td>\n",
       "      <td>Poison</td>\n",
       "      <td>60</td>\n",
       "      <td>62</td>\n",
       "      <td>63</td>\n",
       "      <td>80</td>\n",
       "      <td>80</td>\n",
       "      <td>60</td>\n",
       "      <td>1</td>\n",
       "      <td>False</td>\n",
       "      <td>405</td>\n",
       "      <td>Grass/Poison</td>\n",
       "      <td>0.380165</td>\n",
       "    </tr>\n",
       "    <tr>\n",
       "      <th>2</th>\n",
       "      <td>3</td>\n",
       "      <td>Venusaur</td>\n",
       "      <td>Grass</td>\n",
       "      <td>Poison</td>\n",
       "      <td>80</td>\n",
       "      <td>82</td>\n",
       "      <td>83</td>\n",
       "      <td>100</td>\n",
       "      <td>100</td>\n",
       "      <td>80</td>\n",
       "      <td>1</td>\n",
       "      <td>False</td>\n",
       "      <td>525</td>\n",
       "      <td>Grass/Poison</td>\n",
       "      <td>0.674242</td>\n",
       "    </tr>\n",
       "    <tr>\n",
       "      <th>3</th>\n",
       "      <td>4</td>\n",
       "      <td>Mega Venusaur</td>\n",
       "      <td>Grass</td>\n",
       "      <td>Poison</td>\n",
       "      <td>80</td>\n",
       "      <td>100</td>\n",
       "      <td>123</td>\n",
       "      <td>122</td>\n",
       "      <td>120</td>\n",
       "      <td>80</td>\n",
       "      <td>1</td>\n",
       "      <td>False</td>\n",
       "      <td>625</td>\n",
       "      <td>Grass/Poison</td>\n",
       "      <td>0.560000</td>\n",
       "    </tr>\n",
       "    <tr>\n",
       "      <th>4</th>\n",
       "      <td>5</td>\n",
       "      <td>Charmander</td>\n",
       "      <td>Fire</td>\n",
       "      <td>None</td>\n",
       "      <td>39</td>\n",
       "      <td>52</td>\n",
       "      <td>43</td>\n",
       "      <td>60</td>\n",
       "      <td>50</td>\n",
       "      <td>65</td>\n",
       "      <td>1</td>\n",
       "      <td>False</td>\n",
       "      <td>309</td>\n",
       "      <td>Fire/None</td>\n",
       "      <td>0.491071</td>\n",
       "    </tr>\n",
       "  </tbody>\n",
       "</table>\n",
       "</div>"
      ],
      "text/plain": [
       "   #           Name Type 1  Type 2  HP  Attack  Defense  Sp. Atk  Sp. Def  \\\n",
       "0  1      Bulbasaur  Grass  Poison  45      49       49       65       65   \n",
       "1  2        Ivysaur  Grass  Poison  60      62       63       80       80   \n",
       "2  3       Venusaur  Grass  Poison  80      82       83      100      100   \n",
       "3  4  Mega Venusaur  Grass  Poison  80     100      123      122      120   \n",
       "4  5     Charmander   Fire    None  39      52       43       60       50   \n",
       "\n",
       "   Speed  Generation  Legendary  stats_sum          Type     ratio  \n",
       "0     45           1      False        318  Grass/Poison  0.278195  \n",
       "1     60           1      False        405  Grass/Poison  0.380165  \n",
       "2     80           1      False        525  Grass/Poison  0.674242  \n",
       "3     80           1      False        625  Grass/Poison  0.560000  \n",
       "4     65           1      False        309     Fire/None  0.491071  "
      ]
     },
     "execution_count": 21,
     "metadata": {},
     "output_type": "execute_result"
    }
   ],
   "source": [
    "id_dict = dict(zip(pokemon['Name'], pokemon['#']))\n",
    "battle_win[\"Name\"] = battle_win.index\n",
    "battle_win[\"#\"] = battle_win[\"Name\"].replace(id_dict)\n",
    "ratio_dict = dict(zip(battle_win['#'], battle_win['ratio']))\n",
    "pokemon[\"ratio\"] = pokemon[\"#\"].replace(ratio_dict)\n",
    "pokemon.head()"
   ]
  },
  {
   "cell_type": "code",
   "execution_count": 22,
   "metadata": {
    "_cell_guid": "ac512642-f08c-4f97-89f4-b83eda463bf4",
    "_uuid": "68f87c93c38c6172fd10a8ac804ca513ee494692",
    "collapsed": true
   },
   "outputs": [
    {
     "name": "stdout",
     "output_type": "stream",
     "text": [
      "There are 17 pokemons have NaN ratio.\n"
     ]
    },
    {
     "data": {
      "text/html": [
       "<div>\n",
       "<style>\n",
       "    .dataframe thead tr:only-child th {\n",
       "        text-align: right;\n",
       "    }\n",
       "\n",
       "    .dataframe thead th {\n",
       "        text-align: left;\n",
       "    }\n",
       "\n",
       "    .dataframe tbody tr th {\n",
       "        vertical-align: top;\n",
       "    }\n",
       "</style>\n",
       "<table border=\"1\" class=\"dataframe\">\n",
       "  <thead>\n",
       "    <tr style=\"text-align: right;\">\n",
       "      <th></th>\n",
       "      <th>#</th>\n",
       "      <th>Name</th>\n",
       "      <th>ratio</th>\n",
       "    </tr>\n",
       "  </thead>\n",
       "  <tbody>\n",
       "    <tr>\n",
       "      <th>11</th>\n",
       "      <td>12</td>\n",
       "      <td>Blastoise</td>\n",
       "      <td>12.0</td>\n",
       "    </tr>\n",
       "    <tr>\n",
       "      <th>32</th>\n",
       "      <td>33</td>\n",
       "      <td>Sandshrew</td>\n",
       "      <td>33.0</td>\n",
       "    </tr>\n",
       "    <tr>\n",
       "      <th>45</th>\n",
       "      <td>46</td>\n",
       "      <td>Wigglytuff</td>\n",
       "      <td>46.0</td>\n",
       "    </tr>\n",
       "    <tr>\n",
       "      <th>62</th>\n",
       "      <td>63</td>\n",
       "      <td>NaN</td>\n",
       "      <td>63.0</td>\n",
       "    </tr>\n",
       "    <tr>\n",
       "      <th>65</th>\n",
       "      <td>66</td>\n",
       "      <td>Poliwag</td>\n",
       "      <td>66.0</td>\n",
       "    </tr>\n",
       "    <tr>\n",
       "      <th>77</th>\n",
       "      <td>78</td>\n",
       "      <td>Victreebel</td>\n",
       "      <td>78.0</td>\n",
       "    </tr>\n",
       "    <tr>\n",
       "      <th>89</th>\n",
       "      <td>90</td>\n",
       "      <td>Magneton</td>\n",
       "      <td>90.0</td>\n",
       "    </tr>\n",
       "    <tr>\n",
       "      <th>143</th>\n",
       "      <td>144</td>\n",
       "      <td>Ditto</td>\n",
       "      <td>144.0</td>\n",
       "    </tr>\n",
       "    <tr>\n",
       "      <th>182</th>\n",
       "      <td>183</td>\n",
       "      <td>Ariados</td>\n",
       "      <td>183.0</td>\n",
       "    </tr>\n",
       "    <tr>\n",
       "      <th>235</th>\n",
       "      <td>236</td>\n",
       "      <td>Ursaring</td>\n",
       "      <td>236.0</td>\n",
       "    </tr>\n",
       "    <tr>\n",
       "      <th>321</th>\n",
       "      <td>322</td>\n",
       "      <td>Hariyama</td>\n",
       "      <td>322.0</td>\n",
       "    </tr>\n",
       "    <tr>\n",
       "      <th>418</th>\n",
       "      <td>419</td>\n",
       "      <td>Mega Latias</td>\n",
       "      <td>419.0</td>\n",
       "    </tr>\n",
       "    <tr>\n",
       "      <th>478</th>\n",
       "      <td>479</td>\n",
       "      <td>Honchkrow</td>\n",
       "      <td>479.0</td>\n",
       "    </tr>\n",
       "    <tr>\n",
       "      <th>555</th>\n",
       "      <td>556</td>\n",
       "      <td>Servine</td>\n",
       "      <td>556.0</td>\n",
       "    </tr>\n",
       "    <tr>\n",
       "      <th>617</th>\n",
       "      <td>618</td>\n",
       "      <td>Maractus</td>\n",
       "      <td>618.0</td>\n",
       "    </tr>\n",
       "    <tr>\n",
       "      <th>654</th>\n",
       "      <td>655</td>\n",
       "      <td>Jellicent</td>\n",
       "      <td>655.0</td>\n",
       "    </tr>\n",
       "    <tr>\n",
       "      <th>781</th>\n",
       "      <td>782</td>\n",
       "      <td>Pumpkaboo Small Size</td>\n",
       "      <td>782.0</td>\n",
       "    </tr>\n",
       "  </tbody>\n",
       "</table>\n",
       "</div>"
      ],
      "text/plain": [
       "       #                  Name  ratio\n",
       "11    12             Blastoise   12.0\n",
       "32    33             Sandshrew   33.0\n",
       "45    46            Wigglytuff   46.0\n",
       "62    63                   NaN   63.0\n",
       "65    66               Poliwag   66.0\n",
       "77    78            Victreebel   78.0\n",
       "89    90              Magneton   90.0\n",
       "143  144                 Ditto  144.0\n",
       "182  183               Ariados  183.0\n",
       "235  236              Ursaring  236.0\n",
       "321  322              Hariyama  322.0\n",
       "418  419           Mega Latias  419.0\n",
       "478  479             Honchkrow  479.0\n",
       "555  556               Servine  556.0\n",
       "617  618              Maractus  618.0\n",
       "654  655             Jellicent  655.0\n",
       "781  782  Pumpkaboo Small Size  782.0"
      ]
     },
     "execution_count": 22,
     "metadata": {},
     "output_type": "execute_result"
    }
   ],
   "source": [
    "nobattle_pokemon = pokemon[pokemon[\"ratio\"]>1]\n",
    "print (\"There are {} pokemons have NaN ratio.\".format(len(nobattle_pokemon.index)))\n",
    "nobattle_pokemon[[\"#\", \"Name\", \"ratio\"]]"
   ]
  },
  {
   "cell_type": "markdown",
   "metadata": {
    "_cell_guid": "08f44ff2-e847-437c-a7e1-6f55a11d7a2a",
    "_uuid": "c5dfc7329d1455471f296c5896b30de79aa31491"
   },
   "source": [
    "#63 pokemon's name is NaN. Searching by Internet, #63 pokemon is \"Primeape\"."
   ]
  },
  {
   "cell_type": "markdown",
   "metadata": {
    "_cell_guid": "9b5e817e-2e62-435e-bda4-9ad298faecfe",
    "_uuid": "bf4f47b0290abc40fa4041882556335a49404dd5"
   },
   "source": [
    "<img src=\"https://lh3.googleusercontent.com/YrLpyLDBZzJs7cnFdE4Yv8cIzbAKbM4v_-ZAEIbkj0faWK7yXIZ2-dJuVqTykNLRR3oDmWENIbmYO1yPak1OdLpESmucqjJiMrmSrQ7LI6yMn38--wkv2y0Q69OWFHPMBaatY6tTxoLg3ZuOq6KziO6TD3iXTWdVVuw3bnRwzwpyXmfSNKFhXGn5hQJ32FW3MvulNHCpD_b6nVCd6K2BOoSrp3e3MqEobJQJxi7sTcNgi1s19EcxZRuKY4RLOf67BPTt1iPWzXjLwA15M8jfgLNTeIm55SCg3iYWAXdCDUfjyONnB-es8-W9KviZt3nPFIbcaugeXa90YIMdfaqpdveDcAmuhuVuhxAtQuUEaCJgIGrNkWUnGdjzHEXEZq0h6BzTq6IWwl8X3FqlTXzmllWbuS_0BJY6RokZNUS4_IOI8JH84cogSmDPtIm9QERwO-cXhiFmXaeMT8tNs6aqMbbjqbzfmyZ1z7nSF8MqpFDpqp3qlIo4Mk2BObhsTwVEioRAgOa9Nx0YLR8oMcQKWmwCBpdcPaCVEOrsAZzB2PK-VhPSp_LFSau_9---cV7Mf-ov8PbdFdFZ7FNdyP17mqC6A4adiixsfFq4C1gxtQ=s431-no\" width=30%>"
   ]
  },
  {
   "cell_type": "code",
   "execution_count": 23,
   "metadata": {
    "_cell_guid": "a8619a4b-a8c1-4180-9d2c-fc1e4046d26b",
    "_uuid": "ff6d70c08a68358bd779d76ba74fb8749841f90c",
    "collapsed": true
   },
   "outputs": [
    {
     "data": {
      "text/html": [
       "<div>\n",
       "<style>\n",
       "    .dataframe thead tr:only-child th {\n",
       "        text-align: right;\n",
       "    }\n",
       "\n",
       "    .dataframe thead th {\n",
       "        text-align: left;\n",
       "    }\n",
       "\n",
       "    .dataframe tbody tr th {\n",
       "        vertical-align: top;\n",
       "    }\n",
       "</style>\n",
       "<table border=\"1\" class=\"dataframe\">\n",
       "  <thead>\n",
       "    <tr style=\"text-align: right;\">\n",
       "      <th></th>\n",
       "      <th>#</th>\n",
       "      <th>Name</th>\n",
       "      <th>ratio</th>\n",
       "    </tr>\n",
       "  </thead>\n",
       "  <tbody>\n",
       "    <tr>\n",
       "      <th>62</th>\n",
       "      <td>63</td>\n",
       "      <td>Primeape</td>\n",
       "      <td>63.0</td>\n",
       "    </tr>\n",
       "  </tbody>\n",
       "</table>\n",
       "</div>"
      ],
      "text/plain": [
       "     #      Name  ratio\n",
       "62  63  Primeape   63.0"
      ]
     },
     "execution_count": 23,
     "metadata": {},
     "output_type": "execute_result"
    }
   ],
   "source": [
    "pokemon.loc[62, \"Name\"] = \"Primeape\"\n",
    "pokemon[pokemon[\"Name\"]==\"Primeape\"][[\"#\", \"Name\", \"ratio\"]]"
   ]
  },
  {
   "cell_type": "markdown",
   "metadata": {
    "_cell_guid": "8e23cb66-13b8-40ec-add3-0badcb0ba9e3",
    "_uuid": "2285438f9fcf1ad670d54d9fd92452c972b9511f"
   },
   "source": [
    "To complete winning ratio, look correration between base stats total and winning ratio."
   ]
  },
  {
   "cell_type": "code",
   "execution_count": 24,
   "metadata": {
    "_cell_guid": "58d7e9cd-7c94-45fc-8ebb-87922025a62c",
    "_uuid": "be6be895ef71ee4e636a5ef2db54dd186b92230d",
    "collapsed": true
   },
   "outputs": [
    {
     "data": {
      "text/plain": [
       "<seaborn.axisgrid.FacetGrid at 0x7f31763efa90>"
      ]
     },
     "execution_count": 24,
     "metadata": {},
     "output_type": "execute_result"
    },
    {
     "data": {
      "image/png": "[encoded data removed]",
      "text/plain": [
       "<matplotlib.figure.Figure at 0x7f3176c92828>"
      ]
     },
     "metadata": {},
     "output_type": "display_data"
    }
   ],
   "source": [
    "battle_pokemon = pokemon[pokemon[\"ratio\"] <= 1]\n",
    "sns.lmplot(x=\"stats_sum\", y=\"ratio\", data=battle_pokemon)"
   ]
  },
  {
   "cell_type": "markdown",
   "metadata": {
    "_cell_guid": "186761e6-d85e-4535-8dd0-197d25dbe55a",
    "_uuid": "d8a4c6d931db1bed01b276955cef69ebd65f651e"
   },
   "source": [
    "By using this correlation, calculate winning ratio of 17 pokemons doesn't have ratio."
   ]
  },
  {
   "cell_type": "code",
   "execution_count": 25,
   "metadata": {
    "_cell_guid": "8894ce39-7af9-495f-9300-4671a12d50cf",
    "_uuid": "8ec8ce8e010f0f8479c2af43a35a08ea5bb5ab52",
    "collapsed": true
   },
   "outputs": [
    {
     "name": "stderr",
     "output_type": "stream",
     "text": [
      "/opt/conda/lib/python3.6/site-packages/ipykernel_launcher.py:4: SettingWithCopyWarning: \n",
      "A value is trying to be set on a copy of a slice from a DataFrame.\n",
      "Try using .loc[row_indexer,col_indexer] = value instead\n",
      "\n",
      "See the caveats in the documentation: http://pandas.pydata.org/pandas-docs/stable/indexing.html#indexing-view-versus-copy\n",
      "  after removing the cwd from sys.path.\n"
     ]
    },
    {
     "data": {
      "text/html": [
       "<div>\n",
       "<style>\n",
       "    .dataframe thead tr:only-child th {\n",
       "        text-align: right;\n",
       "    }\n",
       "\n",
       "    .dataframe thead th {\n",
       "        text-align: left;\n",
       "    }\n",
       "\n",
       "    .dataframe tbody tr th {\n",
       "        vertical-align: top;\n",
       "    }\n",
       "</style>\n",
       "<table border=\"1\" class=\"dataframe\">\n",
       "  <thead>\n",
       "    <tr style=\"text-align: right;\">\n",
       "      <th></th>\n",
       "      <th>#</th>\n",
       "      <th>Name</th>\n",
       "      <th>ratio</th>\n",
       "    </tr>\n",
       "  </thead>\n",
       "  <tbody>\n",
       "    <tr>\n",
       "      <th>11</th>\n",
       "      <td>12</td>\n",
       "      <td>Blastoise</td>\n",
       "      <td>0.631706</td>\n",
       "    </tr>\n",
       "    <tr>\n",
       "      <th>32</th>\n",
       "      <td>33</td>\n",
       "      <td>Sandshrew</td>\n",
       "      <td>0.314318</td>\n",
       "    </tr>\n",
       "    <tr>\n",
       "      <th>45</th>\n",
       "      <td>46</td>\n",
       "      <td>Wigglytuff</td>\n",
       "      <td>0.500611</td>\n",
       "    </tr>\n",
       "    <tr>\n",
       "      <th>62</th>\n",
       "      <td>63</td>\n",
       "      <td>NaN</td>\n",
       "      <td>0.528210</td>\n",
       "    </tr>\n",
       "    <tr>\n",
       "      <th>65</th>\n",
       "      <td>66</td>\n",
       "      <td>Poliwag</td>\n",
       "      <td>0.314318</td>\n",
       "    </tr>\n",
       "    <tr>\n",
       "      <th>77</th>\n",
       "      <td>78</td>\n",
       "      <td>Victreebel</td>\n",
       "      <td>0.576508</td>\n",
       "    </tr>\n",
       "    <tr>\n",
       "      <th>89</th>\n",
       "      <td>90</td>\n",
       "      <td>Magneton</td>\n",
       "      <td>0.542009</td>\n",
       "    </tr>\n",
       "    <tr>\n",
       "      <th>143</th>\n",
       "      <td>144</td>\n",
       "      <td>Ditto</td>\n",
       "      <td>0.297758</td>\n",
       "    </tr>\n",
       "    <tr>\n",
       "      <th>182</th>\n",
       "      <td>183</td>\n",
       "      <td>Ariados</td>\n",
       "      <td>0.438513</td>\n",
       "    </tr>\n",
       "    <tr>\n",
       "      <th>235</th>\n",
       "      <td>236</td>\n",
       "      <td>Ursaring</td>\n",
       "      <td>0.590307</td>\n",
       "    </tr>\n",
       "    <tr>\n",
       "      <th>321</th>\n",
       "      <td>322</td>\n",
       "      <td>Hariyama</td>\n",
       "      <td>0.554429</td>\n",
       "    </tr>\n",
       "    <tr>\n",
       "      <th>418</th>\n",
       "      <td>419</td>\n",
       "      <td>Mega Latias</td>\n",
       "      <td>0.866297</td>\n",
       "    </tr>\n",
       "    <tr>\n",
       "      <th>478</th>\n",
       "      <td>479</td>\n",
       "      <td>Honchkrow</td>\n",
       "      <td>0.597207</td>\n",
       "    </tr>\n",
       "    <tr>\n",
       "      <th>555</th>\n",
       "      <td>556</td>\n",
       "      <td>Servine</td>\n",
       "      <td>0.470252</td>\n",
       "    </tr>\n",
       "    <tr>\n",
       "      <th>617</th>\n",
       "      <td>618</td>\n",
       "      <td>Maractus</td>\n",
       "      <td>0.536489</td>\n",
       "    </tr>\n",
       "    <tr>\n",
       "      <th>654</th>\n",
       "      <td>655</td>\n",
       "      <td>Jellicent</td>\n",
       "      <td>0.562708</td>\n",
       "    </tr>\n",
       "    <tr>\n",
       "      <th>781</th>\n",
       "      <td>782</td>\n",
       "      <td>Pumpkaboo Small Size</td>\n",
       "      <td>0.362616</td>\n",
       "    </tr>\n",
       "  </tbody>\n",
       "</table>\n",
       "</div>"
      ],
      "text/plain": [
       "       #                  Name     ratio\n",
       "11    12             Blastoise  0.631706\n",
       "32    33             Sandshrew  0.314318\n",
       "45    46            Wigglytuff  0.500611\n",
       "62    63                   NaN  0.528210\n",
       "65    66               Poliwag  0.314318\n",
       "77    78            Victreebel  0.576508\n",
       "89    90              Magneton  0.542009\n",
       "143  144                 Ditto  0.297758\n",
       "182  183               Ariados  0.438513\n",
       "235  236              Ursaring  0.590307\n",
       "321  322              Hariyama  0.554429\n",
       "418  419           Mega Latias  0.866297\n",
       "478  479             Honchkrow  0.597207\n",
       "555  556               Servine  0.470252\n",
       "617  618              Maractus  0.536489\n",
       "654  655             Jellicent  0.562708\n",
       "781  782  Pumpkaboo Small Size  0.362616"
      ]
     },
     "execution_count": 25,
     "metadata": {},
     "output_type": "execute_result"
    }
   ],
   "source": [
    "from sklearn.linear_model import LinearRegression\n",
    "linreg = LinearRegression()\n",
    "linreg.fit(battle_pokemon[\"stats_sum\"].values.reshape(-1, 1), battle_pokemon[\"ratio\"].values.reshape(-1, 1))\n",
    "nobattle_pokemon[\"ratio\"] = linreg.predict(nobattle_pokemon[\"stats_sum\"].values.reshape(-1, 1))\n",
    "nobattle_pokemon[[\"#\", \"Name\", \"ratio\"]]"
   ]
  },
  {
   "cell_type": "markdown",
   "metadata": {
    "_cell_guid": "429ca036-fd0b-45a5-9804-69d5ca4c66ca",
    "_uuid": "175b6818065a9f82d6265fe42c2c2cd8ac51a21a"
   },
   "source": [
    "##### 2-2. Preparing DataFrame for predicting\n",
    "Add pokemon's specifications to battle combination dataframe. "
   ]
  },
  {
   "cell_type": "code",
   "execution_count": 26,
   "metadata": {
    "_cell_guid": "90a7a369-7739-48d1-90ed-3d902d985c26",
    "_uuid": "01070b557ceb65e9faef9c357a9602b8a75423f4",
    "collapsed": true
   },
   "outputs": [
    {
     "data": {
      "text/html": [
       "<div>\n",
       "<style>\n",
       "    .dataframe thead tr:only-child th {\n",
       "        text-align: right;\n",
       "    }\n",
       "\n",
       "    .dataframe thead th {\n",
       "        text-align: left;\n",
       "    }\n",
       "\n",
       "    .dataframe tbody tr th {\n",
       "        vertical-align: top;\n",
       "    }\n",
       "</style>\n",
       "<table border=\"1\" class=\"dataframe\">\n",
       "  <thead>\n",
       "    <tr style=\"text-align: right;\">\n",
       "      <th></th>\n",
       "      <th>First_pokemon_hp</th>\n",
       "      <th>First_pokemon_attack</th>\n",
       "      <th>First_pokemon_defense</th>\n",
       "      <th>First_pokemon_spattack</th>\n",
       "      <th>First_pokemon_spdefense</th>\n",
       "      <th>First_pokemon_speed</th>\n",
       "      <th>First_pokemon_stats</th>\n",
       "      <th>First_pokemon_ratio</th>\n",
       "      <th>Second_pokemon_hp</th>\n",
       "      <th>Second_pokemon_attack</th>\n",
       "      <th>Second_pokemon_defense</th>\n",
       "      <th>Second_pokemon_spattack</th>\n",
       "      <th>Second_pokemon_spdefense</th>\n",
       "      <th>Second_pokemon_speed</th>\n",
       "      <th>Second_pokemon_stats</th>\n",
       "      <th>Second_pokemon_ratio</th>\n",
       "      <th>Relation</th>\n",
       "      <th>First_win</th>\n",
       "    </tr>\n",
       "  </thead>\n",
       "  <tbody>\n",
       "    <tr>\n",
       "      <th>0</th>\n",
       "      <td>50</td>\n",
       "      <td>64</td>\n",
       "      <td>50</td>\n",
       "      <td>45</td>\n",
       "      <td>50</td>\n",
       "      <td>41</td>\n",
       "      <td>300</td>\n",
       "      <td>0.227273</td>\n",
       "      <td>70</td>\n",
       "      <td>70</td>\n",
       "      <td>40</td>\n",
       "      <td>60</td>\n",
       "      <td>40</td>\n",
       "      <td>60</td>\n",
       "      <td>340</td>\n",
       "      <td>0.424779</td>\n",
       "      <td>0.5</td>\n",
       "      <td>0</td>\n",
       "    </tr>\n",
       "    <tr>\n",
       "      <th>1</th>\n",
       "      <td>91</td>\n",
       "      <td>90</td>\n",
       "      <td>72</td>\n",
       "      <td>90</td>\n",
       "      <td>129</td>\n",
       "      <td>108</td>\n",
       "      <td>580</td>\n",
       "      <td>0.896000</td>\n",
       "      <td>91</td>\n",
       "      <td>129</td>\n",
       "      <td>90</td>\n",
       "      <td>72</td>\n",
       "      <td>90</td>\n",
       "      <td>108</td>\n",
       "      <td>580</td>\n",
       "      <td>0.853659</td>\n",
       "      <td>4.0</td>\n",
       "      <td>0</td>\n",
       "    </tr>\n",
       "    <tr>\n",
       "      <th>2</th>\n",
       "      <td>55</td>\n",
       "      <td>40</td>\n",
       "      <td>85</td>\n",
       "      <td>80</td>\n",
       "      <td>105</td>\n",
       "      <td>40</td>\n",
       "      <td>405</td>\n",
       "      <td>0.236220</td>\n",
       "      <td>75</td>\n",
       "      <td>75</td>\n",
       "      <td>75</td>\n",
       "      <td>125</td>\n",
       "      <td>95</td>\n",
       "      <td>40</td>\n",
       "      <td>485</td>\n",
       "      <td>0.156716</td>\n",
       "      <td>1.0</td>\n",
       "      <td>0</td>\n",
       "    </tr>\n",
       "    <tr>\n",
       "      <th>3</th>\n",
       "      <td>40</td>\n",
       "      <td>40</td>\n",
       "      <td>40</td>\n",
       "      <td>70</td>\n",
       "      <td>40</td>\n",
       "      <td>20</td>\n",
       "      <td>250</td>\n",
       "      <td>0.032520</td>\n",
       "      <td>77</td>\n",
       "      <td>120</td>\n",
       "      <td>90</td>\n",
       "      <td>60</td>\n",
       "      <td>90</td>\n",
       "      <td>48</td>\n",
       "      <td>485</td>\n",
       "      <td>0.278571</td>\n",
       "      <td>0.5</td>\n",
       "      <td>0</td>\n",
       "    </tr>\n",
       "    <tr>\n",
       "      <th>4</th>\n",
       "      <td>70</td>\n",
       "      <td>60</td>\n",
       "      <td>125</td>\n",
       "      <td>115</td>\n",
       "      <td>70</td>\n",
       "      <td>55</td>\n",
       "      <td>495</td>\n",
       "      <td>0.355072</td>\n",
       "      <td>20</td>\n",
       "      <td>10</td>\n",
       "      <td>230</td>\n",
       "      <td>10</td>\n",
       "      <td>230</td>\n",
       "      <td>5</td>\n",
       "      <td>505</td>\n",
       "      <td>0.000000</td>\n",
       "      <td>4.0</td>\n",
       "      <td>1</td>\n",
       "    </tr>\n",
       "  </tbody>\n",
       "</table>\n",
       "</div>"
      ],
      "text/plain": [
       "   First_pokemon_hp  First_pokemon_attack  First_pokemon_defense  \\\n",
       "0                50                    64                     50   \n",
       "1                91                    90                     72   \n",
       "2                55                    40                     85   \n",
       "3                40                    40                     40   \n",
       "4                70                    60                    125   \n",
       "\n",
       "   First_pokemon_spattack  First_pokemon_spdefense  First_pokemon_speed  \\\n",
       "0                      45                       50                   41   \n",
       "1                      90                      129                  108   \n",
       "2                      80                      105                   40   \n",
       "3                      70                       40                   20   \n",
       "4                     115                       70                   55   \n",
       "\n",
       "   First_pokemon_stats  First_pokemon_ratio  Second_pokemon_hp  \\\n",
       "0                  300             0.227273                 70   \n",
       "1                  580             0.896000                 91   \n",
       "2                  405             0.236220                 75   \n",
       "3                  250             0.032520                 77   \n",
       "4                  495             0.355072                 20   \n",
       "\n",
       "   Second_pokemon_attack  Second_pokemon_defense  Second_pokemon_spattack  \\\n",
       "0                     70                      40                       60   \n",
       "1                    129                      90                       72   \n",
       "2                     75                      75                      125   \n",
       "3                    120                      90                       60   \n",
       "4                     10                     230                       10   \n",
       "\n",
       "   Second_pokemon_spdefense  Second_pokemon_speed  Second_pokemon_stats  \\\n",
       "0                        40                    60                   340   \n",
       "1                        90                   108                   580   \n",
       "2                        95                    40                   485   \n",
       "3                        90                    48                   485   \n",
       "4                       230                     5                   505   \n",
       "\n",
       "   Second_pokemon_ratio  Relation  First_win  \n",
       "0              0.424779       0.5          0  \n",
       "1              0.853659       4.0          0  \n",
       "2              0.156716       1.0          0  \n",
       "3              0.278571       0.5          0  \n",
       "4              0.000000       4.0          1  "
      ]
     },
     "execution_count": 26,
     "metadata": {},
     "output_type": "execute_result"
    }
   ],
   "source": [
    "combats_add_data = combats.copy()\n",
    "type_dict = dict(zip(pokemon['#'], pokemon['Type']))\n",
    "hp_dict = dict(zip(pokemon['#'], pokemon['HP']))\n",
    "attack_dict = dict(zip(pokemon['#'], pokemon['Attack']))\n",
    "defense_dict = dict(zip(pokemon['#'], pokemon['Defense']))\n",
    "spattack_dict = dict(zip(pokemon['#'], pokemon['Sp. Atk']))\n",
    "spdefense_dict = dict(zip(pokemon['#'], pokemon['Sp. Def']))\n",
    "speed_dict = dict(zip(pokemon['#'], pokemon['Speed']))\n",
    "stats_sum_dict = dict(zip(pokemon['#'], pokemon['stats_sum']))\n",
    "ratio_dict = dict(zip(pokemon['#'], pokemon['ratio']))\n",
    "combats_add_data[\"First_pokemon_type\"] = combats_add_data[\"First_pokemon\"].replace(type_dict)\n",
    "combats_add_data[\"First_pokemon_hp\"] = combats_add_data[\"First_pokemon\"].replace(hp_dict)\n",
    "combats_add_data[\"First_pokemon_attack\"] = combats_add_data[\"First_pokemon\"].replace(attack_dict)\n",
    "combats_add_data[\"First_pokemon_defense\"] = combats_add_data[\"First_pokemon\"].replace(defense_dict)\n",
    "combats_add_data[\"First_pokemon_spattack\"] = combats_add_data[\"First_pokemon\"].replace(spattack_dict)\n",
    "combats_add_data[\"First_pokemon_spdefense\"] = combats_add_data[\"First_pokemon\"].replace(spdefense_dict)\n",
    "combats_add_data[\"First_pokemon_speed\"] = combats_add_data[\"First_pokemon\"].replace(speed_dict)\n",
    "combats_add_data[\"First_pokemon_stats\"] = combats_add_data[\"First_pokemon\"].replace(stats_sum_dict)\n",
    "combats_add_data[\"First_pokemon_ratio\"] = combats_add_data[\"First_pokemon\"].replace(ratio_dict)\n",
    "combats_add_data[\"Second_pokemon_type\"] = combats_add_data[\"Second_pokemon\"].replace(type_dict)\n",
    "combats_add_data[\"Second_pokemon_hp\"] = combats_add_data[\"Second_pokemon\"].replace(hp_dict)\n",
    "combats_add_data[\"Second_pokemon_attack\"] = combats_add_data[\"Second_pokemon\"].replace(attack_dict)\n",
    "combats_add_data[\"Second_pokemon_defense\"] = combats_add_data[\"Second_pokemon\"].replace(defense_dict)\n",
    "combats_add_data[\"Second_pokemon_spattack\"] = combats_add_data[\"Second_pokemon\"].replace(spattack_dict)\n",
    "combats_add_data[\"Second_pokemon_spdefense\"] = combats_add_data[\"Second_pokemon\"].replace(spdefense_dict)\n",
    "combats_add_data[\"Second_pokemon_speed\"] = combats_add_data[\"Second_pokemon\"].replace(speed_dict)\n",
    "combats_add_data[\"Second_pokemon_stats\"] = combats_add_data[\"Second_pokemon\"].replace(stats_sum_dict)\n",
    "combats_add_data[\"Second_pokemon_ratio\"] = combats_add_data[\"Second_pokemon\"].replace(ratio_dict)\n",
    "\n",
    "\n",
    "def calcTypeRelation(combats_add_data):\n",
    "    r0 = 1\n",
    "    first_type1 = combats_add_data[\"First_pokemon_type\"].split(\"/\")[0]\n",
    "    first_type2 = combats_add_data[\"First_pokemon_type\"].split(\"/\")[1]\n",
    "    second_type1 = combats_add_data[\"Second_pokemon_type\"].split(\"/\")[0]\n",
    "    second_type2 = combats_add_data[\"Second_pokemon_type\"].split(\"/\")[1]\n",
    "    if first_type2 != \"None\" and second_type2 != \"None\":\n",
    "        r1 = df_type_relation[first_type1][second_type1]\n",
    "        r2 = df_type_relation[first_type1][second_type2]\n",
    "        r3 = df_type_relation[first_type2][second_type1]\n",
    "        r4 = df_type_relation[first_type2][second_type2]\n",
    "        r = r0 * r1 * r2 * r3 * r4\n",
    "    elif first_type2 != \"None\" and second_type2 == \"None\":\n",
    "        r1 = df_type_relation[first_type1][second_type1]\n",
    "        r3 = df_type_relation[first_type2][second_type1]\n",
    "        r = r0 * r1 * r3\n",
    "    elif first_type2 == \"None\" and second_type2 != \"None\":\n",
    "        r1 = df_type_relation[first_type1][second_type1]\n",
    "        r2 = df_type_relation[first_type1][second_type2]\n",
    "        r = r0 * r1 * r2\n",
    "    elif first_type2 == \"None\" and second_type2 == \"None\":\n",
    "        r1 = df_type_relation[first_type1][second_type1]\n",
    "        r = r0 * r1\n",
    "    return r\n",
    "\n",
    "combats_add_data[\"Relation\"] = combats_add_data.apply(lambda x: calcTypeRelation(x), axis = 1)\n",
    "combats_add_data[\"First_win\"] = combats_add_data.apply(lambda x: 1 if x[\"First_pokemon\"]==x[\"Winner\"] else 0, axis=1)\n",
    "noneed_cols = [\"First_pokemon\", \"Second_pokemon\", \"Winner\", \"First_pokemon_type\", \"Second_pokemon_type\"]\n",
    "combats_add_data = combats_add_data.drop(noneed_cols, axis=1)\n",
    "combats_add_data.head()"
   ]
  },
  {
   "cell_type": "markdown",
   "metadata": {
    "_cell_guid": "24f87f0b-e940-478e-b5ea-ca54de9d579b",
    "_uuid": "c1d906d85213eb48cccd7d6063e0e0b1e6c9cd90"
   },
   "source": [
    "Using this dataframe, make model for predicting. Before that, split this dataframe to train data and test data."
   ]
  },
  {
   "cell_type": "code",
   "execution_count": 27,
   "metadata": {
    "_cell_guid": "34c5fcb3-7972-47ee-9f48-00f0fc329be5",
    "_uuid": "13fc4f22dda69210b25aa3c837b40ea4d4d9ef71",
    "collapsed": true
   },
   "outputs": [
    {
     "name": "stdout",
     "output_type": "stream",
     "text": [
      "X_train.shape = (40000, 17)\n",
      "X_test.shape = (10000, 17)\n",
      "y_train.shape = (40000,)\n",
      "y_test.shape = (10000,)\n"
     ]
    },
    {
     "name": "stderr",
     "output_type": "stream",
     "text": [
      "/opt/conda/lib/python3.6/site-packages/sklearn/model_selection/_split.py:2026: FutureWarning: From version 0.21, test_size will always complement train_size unless both are specified.\n",
      "  FutureWarning)\n"
     ]
    }
   ],
   "source": [
    "from sklearn.model_selection import train_test_split\n",
    "\n",
    "X = combats_add_data.drop(\"First_win\", axis=1)\n",
    "y = combats_add_data[\"First_win\"]\n",
    "X_train, X_test, y_train, y_test = train_test_split(X, y, train_size=0.8, random_state=1)\n",
    "print(\"X_train.shape = \" + str(X_train.shape))\n",
    "print(\"X_test.shape = \" + str(X_test.shape))\n",
    "print(\"y_train.shape = \" + str(y_train.shape))\n",
    "print(\"y_test.shape = \" + str(y_test.shape))"
   ]
  },
  {
   "cell_type": "markdown",
   "metadata": {
    "_cell_guid": "66ef5bbc-a307-4a59-8330-3b30e99210f9",
    "_uuid": "cebc5392e743c60c802db237fafe2f298d732e8f"
   },
   "source": [
    "##### 2-3. Regression, Classifier and Verification"
   ]
  },
  {
   "cell_type": "code",
   "execution_count": 28,
   "metadata": {
    "_cell_guid": "da41e832-9f56-4000-b4b6-aa4f268a4642",
    "_uuid": "058b5399ef47a5bff6085efb07d606c07f92c10d",
    "collapsed": true
   },
   "outputs": [
    {
     "data": {
      "text/plain": [
       "88.640000000000001"
      ]
     },
     "execution_count": 28,
     "metadata": {},
     "output_type": "execute_result"
    }
   ],
   "source": [
    "# Logistic Regression\n",
    "from sklearn.linear_model import LogisticRegression\n",
    "logreg = LogisticRegression()\n",
    "logreg.fit(X_train, y_train)\n",
    "acc_log = round(logreg.score(X_test, y_test)*100, 2)\n",
    "acc_log"
   ]
  },
  {
   "cell_type": "code",
   "execution_count": 29,
   "metadata": {
    "_cell_guid": "f429838c-341c-4514-b011-4cc40a91f6b1",
    "_uuid": "867faa1db4dcd02c12dc705f664c1e61bdfbc3bd",
    "collapsed": true
   },
   "outputs": [
    {
     "data": {
      "text/plain": [
       "85.659999999999997"
      ]
     },
     "execution_count": 29,
     "metadata": {},
     "output_type": "execute_result"
    }
   ],
   "source": [
    "from sklearn.neighbors import KNeighborsClassifier\n",
    "knn = KNeighborsClassifier(n_neighbors = 3)\n",
    "knn.fit(X_train, y_train)\n",
    "acc_knn = round(knn.score(X_test, y_test) * 100, 2)\n",
    "acc_knn"
   ]
  },
  {
   "cell_type": "code",
   "execution_count": 30,
   "metadata": {
    "_cell_guid": "551574df-2e5c-432a-8970-4bbf418d1e5c",
    "_uuid": "40d63f36aa66c41f950164159d4f9b900a9cd124",
    "collapsed": true
   },
   "outputs": [
    {
     "data": {
      "text/plain": [
       "78.109999999999999"
      ]
     },
     "execution_count": 30,
     "metadata": {},
     "output_type": "execute_result"
    }
   ],
   "source": [
    "# Gaussian Naive Bayes\n",
    "from sklearn.naive_bayes import GaussianNB\n",
    "gaussian = GaussianNB()\n",
    "gaussian.fit(X_train, y_train)\n",
    "acc_gaussian = round(gaussian.score(X_test, y_test) * 100, 2)\n",
    "acc_gaussian"
   ]
  },
  {
   "cell_type": "code",
   "execution_count": 31,
   "metadata": {
    "_cell_guid": "e41b6708-b6d3-4238-8122-629b5e4dbb4d",
    "_uuid": "50b6c7219597220d4202d883790b7dda44674d38",
    "collapsed": true
   },
   "outputs": [
    {
     "name": "stderr",
     "output_type": "stream",
     "text": [
      "/opt/conda/lib/python3.6/site-packages/sklearn/linear_model/stochastic_gradient.py:128: FutureWarning: max_iter and tol parameters have been added in <class 'sklearn.linear_model.perceptron.Perceptron'> in 0.19. If both are left unset, they default to max_iter=5 and tol=None. If tol is not None, max_iter defaults to max_iter=1000. From 0.21, default max_iter will be 1000, and default tol will be 1e-3.\n",
      "  \"and default tol will be 1e-3.\" % type(self), FutureWarning)\n"
     ]
    },
    {
     "data": {
      "text/plain": [
       "81.5"
      ]
     },
     "execution_count": 31,
     "metadata": {},
     "output_type": "execute_result"
    }
   ],
   "source": [
    "# Perceptron\n",
    "from sklearn.linear_model import Perceptron\n",
    "perceptron = Perceptron()\n",
    "perceptron.fit(X_train, y_train)\n",
    "acc_perceptron = round(perceptron.score(X_test, y_test) * 100, 2)\n",
    "acc_perceptron"
   ]
  },
  {
   "cell_type": "code",
   "execution_count": 32,
   "metadata": {
    "_cell_guid": "8231c453-00ad-41e6-acf2-fc5bdc81c9d9",
    "_uuid": "0ef5715887edbdc415de5cabe88a8c330bf9c71b",
    "collapsed": true
   },
   "outputs": [
    {
     "data": {
      "text/plain": [
       "92.959999999999994"
      ]
     },
     "execution_count": 32,
     "metadata": {},
     "output_type": "execute_result"
    }
   ],
   "source": [
    "# Decision Tree\n",
    "from sklearn.tree import DecisionTreeClassifier\n",
    "decision_tree = DecisionTreeClassifier()\n",
    "decision_tree.fit(X_train, y_train)\n",
    "acc_decision_tree = round(decision_tree.score(X_test, y_test) * 100, 2)\n",
    "acc_decision_tree"
   ]
  },
  {
   "cell_type": "code",
   "execution_count": 33,
   "metadata": {
    "_cell_guid": "2aac48c9-50cf-4ff2-b8f9-b72bf5f91996",
    "_uuid": "fa2471b4ed9e7529c1093c6b6b16b71343b26d4f",
    "collapsed": true
   },
   "outputs": [
    {
     "data": {
      "text/plain": [
       "94.920000000000002"
      ]
     },
     "execution_count": 33,
     "metadata": {},
     "output_type": "execute_result"
    }
   ],
   "source": [
    "# Random Forest\n",
    "from sklearn.ensemble import RandomForestClassifier\n",
    "random_forest = RandomForestClassifier(n_estimators=100)\n",
    "random_forest.fit(X_train, y_train)\n",
    "acc_random_forest = round(random_forest.score(X_test, y_test) * 100, 2)\n",
    "acc_random_forest"
   ]
  },
  {
   "cell_type": "code",
   "execution_count": 34,
   "metadata": {
    "_cell_guid": "9cdad6eb-3c4a-4a28-addd-1720619c6d7e",
    "_uuid": "60bdf6b2466b4d776f0a2a916f7627c4c9c6e74b",
    "collapsed": true
   },
   "outputs": [
    {
     "data": {
      "text/html": [
       "<div>\n",
       "<style>\n",
       "    .dataframe thead tr:only-child th {\n",
       "        text-align: right;\n",
       "    }\n",
       "\n",
       "    .dataframe thead th {\n",
       "        text-align: left;\n",
       "    }\n",
       "\n",
       "    .dataframe tbody tr th {\n",
       "        vertical-align: top;\n",
       "    }\n",
       "</style>\n",
       "<table border=\"1\" class=\"dataframe\">\n",
       "  <thead>\n",
       "    <tr style=\"text-align: right;\">\n",
       "      <th></th>\n",
       "      <th>Model</th>\n",
       "      <th>Score</th>\n",
       "    </tr>\n",
       "  </thead>\n",
       "  <tbody>\n",
       "    <tr>\n",
       "      <th>5</th>\n",
       "      <td>Random Forest</td>\n",
       "      <td>94.92</td>\n",
       "    </tr>\n",
       "    <tr>\n",
       "      <th>4</th>\n",
       "      <td>Decision Tree</td>\n",
       "      <td>92.96</td>\n",
       "    </tr>\n",
       "    <tr>\n",
       "      <th>0</th>\n",
       "      <td>Logistic Regression</td>\n",
       "      <td>88.64</td>\n",
       "    </tr>\n",
       "    <tr>\n",
       "      <th>1</th>\n",
       "      <td>KNN</td>\n",
       "      <td>85.66</td>\n",
       "    </tr>\n",
       "    <tr>\n",
       "      <th>3</th>\n",
       "      <td>Perceptron</td>\n",
       "      <td>81.50</td>\n",
       "    </tr>\n",
       "    <tr>\n",
       "      <th>2</th>\n",
       "      <td>Naive Bayes</td>\n",
       "      <td>78.11</td>\n",
       "    </tr>\n",
       "  </tbody>\n",
       "</table>\n",
       "</div>"
      ],
      "text/plain": [
       "                 Model  Score\n",
       "5        Random Forest  94.92\n",
       "4        Decision Tree  92.96\n",
       "0  Logistic Regression  88.64\n",
       "1                  KNN  85.66\n",
       "3           Perceptron  81.50\n",
       "2          Naive Bayes  78.11"
      ]
     },
     "execution_count": 34,
     "metadata": {},
     "output_type": "execute_result"
    }
   ],
   "source": [
    "models = pd.DataFrame({\n",
    "    'Model': ['Logistic Regression', 'KNN', \n",
    "              'Naive Bayes', 'Perceptron', 'Decision Tree', 'Random Forest'],\n",
    "    'Score': [acc_log, acc_knn, acc_gaussian, acc_perceptron, \n",
    "              acc_decision_tree, acc_random_forest]})\n",
    "models.sort_values(by='Score', ascending=False)"
   ]
  },
  {
   "cell_type": "markdown",
   "metadata": {
    "_cell_guid": "1820a1da-842c-451b-985d-ad6b59bb3f3e",
    "_uuid": "37bd6f0d46dba7279df8ebfc6d607e7f45806120"
   },
   "source": [
    "RandomForest is best argorithm, and scored 95%. \n",
    "How much effective are factors?"
   ]
  },
  {
   "cell_type": "code",
   "execution_count": 35,
   "metadata": {
    "_cell_guid": "1e4a748a-6bfc-42f5-9b31-365c8828e787",
    "_uuid": "c1d3130177f14d688099b9469dba41acf68362d2",
    "collapsed": true
   },
   "outputs": [
    {
     "data": {
      "text/html": [
       "<div>\n",
       "<style>\n",
       "    .dataframe thead tr:only-child th {\n",
       "        text-align: right;\n",
       "    }\n",
       "\n",
       "    .dataframe thead th {\n",
       "        text-align: left;\n",
       "    }\n",
       "\n",
       "    .dataframe tbody tr th {\n",
       "        vertical-align: top;\n",
       "    }\n",
       "</style>\n",
       "<table border=\"1\" class=\"dataframe\">\n",
       "  <thead>\n",
       "    <tr style=\"text-align: right;\">\n",
       "      <th></th>\n",
       "      <th>feature_name</th>\n",
       "      <th>feature_importance</th>\n",
       "    </tr>\n",
       "  </thead>\n",
       "  <tbody>\n",
       "    <tr>\n",
       "      <th>5</th>\n",
       "      <td>First_pokemon_speed</td>\n",
       "      <td>0.201289</td>\n",
       "    </tr>\n",
       "    <tr>\n",
       "      <th>13</th>\n",
       "      <td>Second_pokemon_speed</td>\n",
       "      <td>0.191057</td>\n",
       "    </tr>\n",
       "    <tr>\n",
       "      <th>7</th>\n",
       "      <td>First_pokemon_ratio</td>\n",
       "      <td>0.164587</td>\n",
       "    </tr>\n",
       "    <tr>\n",
       "      <th>15</th>\n",
       "      <td>Second_pokemon_ratio</td>\n",
       "      <td>0.156475</td>\n",
       "    </tr>\n",
       "    <tr>\n",
       "      <th>6</th>\n",
       "      <td>First_pokemon_stats</td>\n",
       "      <td>0.036464</td>\n",
       "    </tr>\n",
       "    <tr>\n",
       "      <th>14</th>\n",
       "      <td>Second_pokemon_stats</td>\n",
       "      <td>0.036282</td>\n",
       "    </tr>\n",
       "    <tr>\n",
       "      <th>1</th>\n",
       "      <td>First_pokemon_attack</td>\n",
       "      <td>0.027524</td>\n",
       "    </tr>\n",
       "    <tr>\n",
       "      <th>9</th>\n",
       "      <td>Second_pokemon_attack</td>\n",
       "      <td>0.026234</td>\n",
       "    </tr>\n",
       "    <tr>\n",
       "      <th>16</th>\n",
       "      <td>Relation</td>\n",
       "      <td>0.021604</td>\n",
       "    </tr>\n",
       "    <tr>\n",
       "      <th>11</th>\n",
       "      <td>Second_pokemon_spattack</td>\n",
       "      <td>0.020342</td>\n",
       "    </tr>\n",
       "    <tr>\n",
       "      <th>3</th>\n",
       "      <td>First_pokemon_spattack</td>\n",
       "      <td>0.019810</td>\n",
       "    </tr>\n",
       "    <tr>\n",
       "      <th>0</th>\n",
       "      <td>First_pokemon_hp</td>\n",
       "      <td>0.017534</td>\n",
       "    </tr>\n",
       "    <tr>\n",
       "      <th>10</th>\n",
       "      <td>Second_pokemon_defense</td>\n",
       "      <td>0.017280</td>\n",
       "    </tr>\n",
       "    <tr>\n",
       "      <th>8</th>\n",
       "      <td>Second_pokemon_hp</td>\n",
       "      <td>0.016929</td>\n",
       "    </tr>\n",
       "    <tr>\n",
       "      <th>2</th>\n",
       "      <td>First_pokemon_defense</td>\n",
       "      <td>0.016878</td>\n",
       "    </tr>\n",
       "    <tr>\n",
       "      <th>12</th>\n",
       "      <td>Second_pokemon_spdefense</td>\n",
       "      <td>0.014877</td>\n",
       "    </tr>\n",
       "    <tr>\n",
       "      <th>4</th>\n",
       "      <td>First_pokemon_spdefense</td>\n",
       "      <td>0.014836</td>\n",
       "    </tr>\n",
       "  </tbody>\n",
       "</table>\n",
       "</div>"
      ],
      "text/plain": [
       "                feature_name  feature_importance\n",
       "5        First_pokemon_speed            0.201289\n",
       "13      Second_pokemon_speed            0.191057\n",
       "7        First_pokemon_ratio            0.164587\n",
       "15      Second_pokemon_ratio            0.156475\n",
       "6        First_pokemon_stats            0.036464\n",
       "14      Second_pokemon_stats            0.036282\n",
       "1       First_pokemon_attack            0.027524\n",
       "9      Second_pokemon_attack            0.026234\n",
       "16                  Relation            0.021604\n",
       "11   Second_pokemon_spattack            0.020342\n",
       "3     First_pokemon_spattack            0.019810\n",
       "0           First_pokemon_hp            0.017534\n",
       "10    Second_pokemon_defense            0.017280\n",
       "8          Second_pokemon_hp            0.016929\n",
       "2      First_pokemon_defense            0.016878\n",
       "12  Second_pokemon_spdefense            0.014877\n",
       "4    First_pokemon_spdefense            0.014836"
      ]
     },
     "execution_count": 35,
     "metadata": {},
     "output_type": "execute_result"
    }
   ],
   "source": [
    "effective = pd.DataFrame()\n",
    "effective[\"feature_name\"] = X.columns.tolist()\n",
    "effective[\"feature_importance\"] = random_forest.feature_importances_\n",
    "effective.sort_values(\"feature_importance\",ascending=False)"
   ]
  },
  {
   "cell_type": "markdown",
   "metadata": {
    "_cell_guid": "4b19d84b-7144-4398-9576-1bf6dd37ffe2",
    "_uuid": "afb41aeb4e5fa34e1c7cd5d73dd8efd706deb4a4"
   },
   "source": [
    "Most effective factor is Speed. "
   ]
  },
  {
   "cell_type": "code",
   "execution_count": 36,
   "metadata": {
    "_cell_guid": "9c062b40-80b5-404a-9174-9b03905b9957",
    "_uuid": "d6c292e665099069dca96784108b45e2eb983d10",
    "collapsed": true
   },
   "outputs": [
    {
     "data": {
      "text/html": [
       "<div>\n",
       "<style>\n",
       "    .dataframe thead tr:only-child th {\n",
       "        text-align: right;\n",
       "    }\n",
       "\n",
       "    .dataframe thead th {\n",
       "        text-align: left;\n",
       "    }\n",
       "\n",
       "    .dataframe tbody tr th {\n",
       "        vertical-align: top;\n",
       "    }\n",
       "</style>\n",
       "<table border=\"1\" class=\"dataframe\">\n",
       "  <thead>\n",
       "    <tr style=\"text-align: right;\">\n",
       "      <th></th>\n",
       "      <th>#</th>\n",
       "      <th>Name</th>\n",
       "      <th>Type 1</th>\n",
       "      <th>Type 2</th>\n",
       "      <th>HP</th>\n",
       "      <th>Attack</th>\n",
       "      <th>Defense</th>\n",
       "      <th>Sp. Atk</th>\n",
       "      <th>Sp. Def</th>\n",
       "      <th>Speed</th>\n",
       "      <th>Generation</th>\n",
       "      <th>Legendary</th>\n",
       "      <th>stats_sum</th>\n",
       "      <th>Type</th>\n",
       "      <th>ratio</th>\n",
       "    </tr>\n",
       "  </thead>\n",
       "  <tbody>\n",
       "    <tr>\n",
       "      <th>431</th>\n",
       "      <td>432</td>\n",
       "      <td>Deoxys Speed Forme</td>\n",
       "      <td>Psychic</td>\n",
       "      <td>None</td>\n",
       "      <td>50</td>\n",
       "      <td>95</td>\n",
       "      <td>90</td>\n",
       "      <td>95</td>\n",
       "      <td>90</td>\n",
       "      <td>180</td>\n",
       "      <td>3</td>\n",
       "      <td>True</td>\n",
       "      <td>600</td>\n",
       "      <td>Psychic/None</td>\n",
       "      <td>0.917241</td>\n",
       "    </tr>\n",
       "    <tr>\n",
       "      <th>315</th>\n",
       "      <td>316</td>\n",
       "      <td>Ninjask</td>\n",
       "      <td>Bug</td>\n",
       "      <td>Flying</td>\n",
       "      <td>61</td>\n",
       "      <td>90</td>\n",
       "      <td>45</td>\n",
       "      <td>50</td>\n",
       "      <td>50</td>\n",
       "      <td>160</td>\n",
       "      <td>3</td>\n",
       "      <td>False</td>\n",
       "      <td>456</td>\n",
       "      <td>Bug/Flying</td>\n",
       "      <td>0.923077</td>\n",
       "    </tr>\n",
       "    <tr>\n",
       "      <th>428</th>\n",
       "      <td>429</td>\n",
       "      <td>Deoxys Normal Forme</td>\n",
       "      <td>Psychic</td>\n",
       "      <td>None</td>\n",
       "      <td>50</td>\n",
       "      <td>150</td>\n",
       "      <td>50</td>\n",
       "      <td>150</td>\n",
       "      <td>50</td>\n",
       "      <td>150</td>\n",
       "      <td>3</td>\n",
       "      <td>True</td>\n",
       "      <td>600</td>\n",
       "      <td>Psychic/None</td>\n",
       "      <td>0.933962</td>\n",
       "    </tr>\n",
       "    <tr>\n",
       "      <th>154</th>\n",
       "      <td>155</td>\n",
       "      <td>Mega Aerodactyl</td>\n",
       "      <td>Rock</td>\n",
       "      <td>Flying</td>\n",
       "      <td>80</td>\n",
       "      <td>135</td>\n",
       "      <td>85</td>\n",
       "      <td>70</td>\n",
       "      <td>95</td>\n",
       "      <td>150</td>\n",
       "      <td>1</td>\n",
       "      <td>False</td>\n",
       "      <td>615</td>\n",
       "      <td>Rock/Flying</td>\n",
       "      <td>0.984496</td>\n",
       "    </tr>\n",
       "    <tr>\n",
       "      <th>71</th>\n",
       "      <td>72</td>\n",
       "      <td>Mega Alakazam</td>\n",
       "      <td>Psychic</td>\n",
       "      <td>None</td>\n",
       "      <td>55</td>\n",
       "      <td>50</td>\n",
       "      <td>65</td>\n",
       "      <td>175</td>\n",
       "      <td>95</td>\n",
       "      <td>150</td>\n",
       "      <td>1</td>\n",
       "      <td>False</td>\n",
       "      <td>590</td>\n",
       "      <td>Psychic/None</td>\n",
       "      <td>0.781818</td>\n",
       "    </tr>\n",
       "    <tr>\n",
       "      <th>429</th>\n",
       "      <td>430</td>\n",
       "      <td>DeoxysAttack Forme</td>\n",
       "      <td>Psychic</td>\n",
       "      <td>None</td>\n",
       "      <td>50</td>\n",
       "      <td>180</td>\n",
       "      <td>20</td>\n",
       "      <td>180</td>\n",
       "      <td>20</td>\n",
       "      <td>150</td>\n",
       "      <td>3</td>\n",
       "      <td>True</td>\n",
       "      <td>600</td>\n",
       "      <td>Psychic/None</td>\n",
       "      <td>0.902985</td>\n",
       "    </tr>\n",
       "    <tr>\n",
       "      <th>19</th>\n",
       "      <td>20</td>\n",
       "      <td>Mega Beedrill</td>\n",
       "      <td>Bug</td>\n",
       "      <td>Poison</td>\n",
       "      <td>65</td>\n",
       "      <td>150</td>\n",
       "      <td>40</td>\n",
       "      <td>15</td>\n",
       "      <td>80</td>\n",
       "      <td>145</td>\n",
       "      <td>1</td>\n",
       "      <td>False</td>\n",
       "      <td>495</td>\n",
       "      <td>Bug/Poison</td>\n",
       "      <td>0.966387</td>\n",
       "    </tr>\n",
       "    <tr>\n",
       "      <th>275</th>\n",
       "      <td>276</td>\n",
       "      <td>Mega Sceptile</td>\n",
       "      <td>Grass</td>\n",
       "      <td>Dragon</td>\n",
       "      <td>70</td>\n",
       "      <td>110</td>\n",
       "      <td>75</td>\n",
       "      <td>145</td>\n",
       "      <td>85</td>\n",
       "      <td>145</td>\n",
       "      <td>3</td>\n",
       "      <td>False</td>\n",
       "      <td>630</td>\n",
       "      <td>Grass/Dragon</td>\n",
       "      <td>0.944444</td>\n",
       "    </tr>\n",
       "    <tr>\n",
       "      <th>678</th>\n",
       "      <td>679</td>\n",
       "      <td>Accelgor</td>\n",
       "      <td>Bug</td>\n",
       "      <td>None</td>\n",
       "      <td>80</td>\n",
       "      <td>70</td>\n",
       "      <td>40</td>\n",
       "      <td>100</td>\n",
       "      <td>60</td>\n",
       "      <td>145</td>\n",
       "      <td>5</td>\n",
       "      <td>False</td>\n",
       "      <td>495</td>\n",
       "      <td>Bug/None</td>\n",
       "      <td>0.921875</td>\n",
       "    </tr>\n",
       "    <tr>\n",
       "      <th>164</th>\n",
       "      <td>165</td>\n",
       "      <td>Mega Mewtwo Y</td>\n",
       "      <td>Psychic</td>\n",
       "      <td>None</td>\n",
       "      <td>106</td>\n",
       "      <td>150</td>\n",
       "      <td>70</td>\n",
       "      <td>194</td>\n",
       "      <td>120</td>\n",
       "      <td>140</td>\n",
       "      <td>1</td>\n",
       "      <td>True</td>\n",
       "      <td>780</td>\n",
       "      <td>Psychic/None</td>\n",
       "      <td>0.952000</td>\n",
       "    </tr>\n",
       "  </tbody>\n",
       "</table>\n",
       "</div>"
      ],
      "text/plain": [
       "       #                 Name   Type 1  Type 2   HP  Attack  Defense  Sp. Atk  \\\n",
       "431  432   Deoxys Speed Forme  Psychic    None   50      95       90       95   \n",
       "315  316              Ninjask      Bug  Flying   61      90       45       50   \n",
       "428  429  Deoxys Normal Forme  Psychic    None   50     150       50      150   \n",
       "154  155      Mega Aerodactyl     Rock  Flying   80     135       85       70   \n",
       "71    72        Mega Alakazam  Psychic    None   55      50       65      175   \n",
       "429  430   DeoxysAttack Forme  Psychic    None   50     180       20      180   \n",
       "19    20        Mega Beedrill      Bug  Poison   65     150       40       15   \n",
       "275  276        Mega Sceptile    Grass  Dragon   70     110       75      145   \n",
       "678  679             Accelgor      Bug    None   80      70       40      100   \n",
       "164  165        Mega Mewtwo Y  Psychic    None  106     150       70      194   \n",
       "\n",
       "     Sp. Def  Speed  Generation  Legendary  stats_sum          Type     ratio  \n",
       "431       90    180           3       True        600  Psychic/None  0.917241  \n",
       "315       50    160           3      False        456    Bug/Flying  0.923077  \n",
       "428       50    150           3       True        600  Psychic/None  0.933962  \n",
       "154       95    150           1      False        615   Rock/Flying  0.984496  \n",
       "71        95    150           1      False        590  Psychic/None  0.781818  \n",
       "429       20    150           3       True        600  Psychic/None  0.902985  \n",
       "19        80    145           1      False        495    Bug/Poison  0.966387  \n",
       "275       85    145           3      False        630  Grass/Dragon  0.944444  \n",
       "678       60    145           5      False        495      Bug/None  0.921875  \n",
       "164      120    140           1       True        780  Psychic/None  0.952000  "
      ]
     },
     "execution_count": 36,
     "metadata": {},
     "output_type": "execute_result"
    }
   ],
   "source": [
    "pokemon.sort_values(\"Speed\",ascending=False).head(10)"
   ]
  },
  {
   "cell_type": "markdown",
   "metadata": {
    "_cell_guid": "0f71b286-903f-4f99-97f8-3e48fbdc4fa9",
    "_uuid": "d337d3b37b711661a09b99916648e145b01aba31"
   },
   "source": [
    "<img src=\"https://lh3.googleusercontent.com/SgsAM_mK8zpBbY0_vGgBVpXOUXnOowwXuBnOZa760XDXhssWirpjfucz-aaYYu_eWYoFjik65OlgBI1TqLFL1t5Eljj8LE817pLxCzDZ_kk4VQ_mDGjWCcX0O4Gw7S84a2OEBMi3fednyXyw5EW5uz0SJVa0HJo6dVR9MmlstlX8rz2DmfAddwplsTIjZqkEr56uWP4FJPzwwJX2F1KBhctS6-UJEUPuQska34YeckkAaO6CXIXCoNataRCe8Rwc6Fq_iTk-Q_99rcEldW5bafahjfpgAuM62JTZamdOJoOlMgukgLSYezYlAliYP2dQn58uU_LBZxEB9AIUpy-D9ONkQLqvqK3f1ZeODHBLuQo46tZn_kMxIaxCIZN-a0vDl6-Q40tSS6BVzo2HQLK_txRarjZzPM8tgJTyOPeIO6vUdakgU8SJ_gDOKjhXJrA5NZ3hvo3hVtPfE9B6GLRnNj1WsZgMwJS8KfLNi6b6mUqjFGOgfoZqLjz8lYz3T8L1LRgGl6d-owwhJgbpltWM6j0IHtTSpn4t7cENXBopBN70Iv4j-ENHccTJrzd01a_XtN2Kx5pqCzUrxi1CfOo7QjFso1F3uWrpG5woIHaQ4Q=w593-h281-no\">"
   ]
  },
  {
   "cell_type": "markdown",
   "metadata": {
    "_cell_guid": "8f277581-41a6-40e8-b74f-ef09af5cf2d7",
    "_uuid": "b85329dba72ef8aa70ff3380aea3fa26c2422784"
   },
   "source": [
    "Best 10 fastest pokemons are above."
   ]
  },
  {
   "cell_type": "markdown",
   "metadata": {
    "_cell_guid": "a5585e51-3486-4941-b81b-b04f1f6b5f3e",
    "_uuid": "76754726adba9ab5b0bfbf5637771bda18a3a8f6"
   },
   "source": [
    "##### 2-4. Predicting"
   ]
  },
  {
   "cell_type": "code",
   "execution_count": 37,
   "metadata": {
    "_cell_guid": "2971caf5-f1ee-447c-8fd2-4335163e498f",
    "_uuid": "4e5f3b6b22fb9590e4236fa6ea94f6906124a797",
    "collapsed": true
   },
   "outputs": [
    {
     "data": {
      "text/html": [
       "<div>\n",
       "<style>\n",
       "    .dataframe thead tr:only-child th {\n",
       "        text-align: right;\n",
       "    }\n",
       "\n",
       "    .dataframe thead th {\n",
       "        text-align: left;\n",
       "    }\n",
       "\n",
       "    .dataframe tbody tr th {\n",
       "        vertical-align: top;\n",
       "    }\n",
       "</style>\n",
       "<table border=\"1\" class=\"dataframe\">\n",
       "  <thead>\n",
       "    <tr style=\"text-align: right;\">\n",
       "      <th></th>\n",
       "      <th>First_pokemon</th>\n",
       "      <th>Second_pokemon</th>\n",
       "      <th>Winner</th>\n",
       "    </tr>\n",
       "  </thead>\n",
       "  <tbody>\n",
       "    <tr>\n",
       "      <th>0</th>\n",
       "      <td>129</td>\n",
       "      <td>117</td>\n",
       "      <td>129</td>\n",
       "    </tr>\n",
       "    <tr>\n",
       "      <th>1</th>\n",
       "      <td>660</td>\n",
       "      <td>211</td>\n",
       "      <td>211</td>\n",
       "    </tr>\n",
       "    <tr>\n",
       "      <th>2</th>\n",
       "      <td>706</td>\n",
       "      <td>115</td>\n",
       "      <td>706</td>\n",
       "    </tr>\n",
       "    <tr>\n",
       "      <th>3</th>\n",
       "      <td>195</td>\n",
       "      <td>618</td>\n",
       "      <td>618</td>\n",
       "    </tr>\n",
       "    <tr>\n",
       "      <th>4</th>\n",
       "      <td>27</td>\n",
       "      <td>656</td>\n",
       "      <td>27</td>\n",
       "    </tr>\n",
       "    <tr>\n",
       "      <th>5</th>\n",
       "      <td>126</td>\n",
       "      <td>222</td>\n",
       "      <td>126</td>\n",
       "    </tr>\n",
       "    <tr>\n",
       "      <th>6</th>\n",
       "      <td>436</td>\n",
       "      <td>207</td>\n",
       "      <td>436</td>\n",
       "    </tr>\n",
       "    <tr>\n",
       "      <th>7</th>\n",
       "      <td>121</td>\n",
       "      <td>36</td>\n",
       "      <td>36</td>\n",
       "    </tr>\n",
       "    <tr>\n",
       "      <th>8</th>\n",
       "      <td>169</td>\n",
       "      <td>636</td>\n",
       "      <td>169</td>\n",
       "    </tr>\n",
       "    <tr>\n",
       "      <th>9</th>\n",
       "      <td>302</td>\n",
       "      <td>688</td>\n",
       "      <td>302</td>\n",
       "    </tr>\n",
       "    <tr>\n",
       "      <th>10</th>\n",
       "      <td>39</td>\n",
       "      <td>380</td>\n",
       "      <td>380</td>\n",
       "    </tr>\n",
       "    <tr>\n",
       "      <th>11</th>\n",
       "      <td>11</td>\n",
       "      <td>292</td>\n",
       "      <td>11</td>\n",
       "    </tr>\n",
       "    <tr>\n",
       "      <th>12</th>\n",
       "      <td>228</td>\n",
       "      <td>747</td>\n",
       "      <td>747</td>\n",
       "    </tr>\n",
       "    <tr>\n",
       "      <th>13</th>\n",
       "      <td>302</td>\n",
       "      <td>763</td>\n",
       "      <td>302</td>\n",
       "    </tr>\n",
       "    <tr>\n",
       "      <th>14</th>\n",
       "      <td>455</td>\n",
       "      <td>436</td>\n",
       "      <td>436</td>\n",
       "    </tr>\n",
       "    <tr>\n",
       "      <th>15</th>\n",
       "      <td>381</td>\n",
       "      <td>14</td>\n",
       "      <td>381</td>\n",
       "    </tr>\n",
       "    <tr>\n",
       "      <th>16</th>\n",
       "      <td>205</td>\n",
       "      <td>710</td>\n",
       "      <td>205</td>\n",
       "    </tr>\n",
       "    <tr>\n",
       "      <th>17</th>\n",
       "      <td>86</td>\n",
       "      <td>639</td>\n",
       "      <td>639</td>\n",
       "    </tr>\n",
       "    <tr>\n",
       "      <th>18</th>\n",
       "      <td>128</td>\n",
       "      <td>681</td>\n",
       "      <td>681</td>\n",
       "    </tr>\n",
       "    <tr>\n",
       "      <th>19</th>\n",
       "      <td>565</td>\n",
       "      <td>570</td>\n",
       "      <td>570</td>\n",
       "    </tr>\n",
       "    <tr>\n",
       "      <th>20</th>\n",
       "      <td>496</td>\n",
       "      <td>448</td>\n",
       "      <td>496</td>\n",
       "    </tr>\n",
       "    <tr>\n",
       "      <th>21</th>\n",
       "      <td>36</td>\n",
       "      <td>378</td>\n",
       "      <td>36</td>\n",
       "    </tr>\n",
       "    <tr>\n",
       "      <th>22</th>\n",
       "      <td>518</td>\n",
       "      <td>284</td>\n",
       "      <td>518</td>\n",
       "    </tr>\n",
       "    <tr>\n",
       "      <th>23</th>\n",
       "      <td>97</td>\n",
       "      <td>376</td>\n",
       "      <td>376</td>\n",
       "    </tr>\n",
       "    <tr>\n",
       "      <th>24</th>\n",
       "      <td>690</td>\n",
       "      <td>542</td>\n",
       "      <td>542</td>\n",
       "    </tr>\n",
       "    <tr>\n",
       "      <th>25</th>\n",
       "      <td>669</td>\n",
       "      <td>482</td>\n",
       "      <td>482</td>\n",
       "    </tr>\n",
       "    <tr>\n",
       "      <th>26</th>\n",
       "      <td>164</td>\n",
       "      <td>15</td>\n",
       "      <td>164</td>\n",
       "    </tr>\n",
       "    <tr>\n",
       "      <th>27</th>\n",
       "      <td>521</td>\n",
       "      <td>773</td>\n",
       "      <td>773</td>\n",
       "    </tr>\n",
       "    <tr>\n",
       "      <th>28</th>\n",
       "      <td>260</td>\n",
       "      <td>107</td>\n",
       "      <td>260</td>\n",
       "    </tr>\n",
       "    <tr>\n",
       "      <th>29</th>\n",
       "      <td>524</td>\n",
       "      <td>140</td>\n",
       "      <td>524</td>\n",
       "    </tr>\n",
       "    <tr>\n",
       "      <th>...</th>\n",
       "      <td>...</td>\n",
       "      <td>...</td>\n",
       "      <td>...</td>\n",
       "    </tr>\n",
       "    <tr>\n",
       "      <th>9970</th>\n",
       "      <td>534</td>\n",
       "      <td>123</td>\n",
       "      <td>534</td>\n",
       "    </tr>\n",
       "    <tr>\n",
       "      <th>9971</th>\n",
       "      <td>310</td>\n",
       "      <td>551</td>\n",
       "      <td>551</td>\n",
       "    </tr>\n",
       "    <tr>\n",
       "      <th>9972</th>\n",
       "      <td>475</td>\n",
       "      <td>530</td>\n",
       "      <td>475</td>\n",
       "    </tr>\n",
       "    <tr>\n",
       "      <th>9973</th>\n",
       "      <td>212</td>\n",
       "      <td>145</td>\n",
       "      <td>212</td>\n",
       "    </tr>\n",
       "    <tr>\n",
       "      <th>9974</th>\n",
       "      <td>752</td>\n",
       "      <td>112</td>\n",
       "      <td>752</td>\n",
       "    </tr>\n",
       "    <tr>\n",
       "      <th>9975</th>\n",
       "      <td>626</td>\n",
       "      <td>432</td>\n",
       "      <td>432</td>\n",
       "    </tr>\n",
       "    <tr>\n",
       "      <th>9976</th>\n",
       "      <td>332</td>\n",
       "      <td>794</td>\n",
       "      <td>794</td>\n",
       "    </tr>\n",
       "    <tr>\n",
       "      <th>9977</th>\n",
       "      <td>224</td>\n",
       "      <td>734</td>\n",
       "      <td>224</td>\n",
       "    </tr>\n",
       "    <tr>\n",
       "      <th>9978</th>\n",
       "      <td>277</td>\n",
       "      <td>356</td>\n",
       "      <td>277</td>\n",
       "    </tr>\n",
       "    <tr>\n",
       "      <th>9979</th>\n",
       "      <td>418</td>\n",
       "      <td>110</td>\n",
       "      <td>110</td>\n",
       "    </tr>\n",
       "    <tr>\n",
       "      <th>9980</th>\n",
       "      <td>732</td>\n",
       "      <td>188</td>\n",
       "      <td>732</td>\n",
       "    </tr>\n",
       "    <tr>\n",
       "      <th>9981</th>\n",
       "      <td>84</td>\n",
       "      <td>617</td>\n",
       "      <td>84</td>\n",
       "    </tr>\n",
       "    <tr>\n",
       "      <th>9982</th>\n",
       "      <td>429</td>\n",
       "      <td>175</td>\n",
       "      <td>429</td>\n",
       "    </tr>\n",
       "    <tr>\n",
       "      <th>9983</th>\n",
       "      <td>295</td>\n",
       "      <td>177</td>\n",
       "      <td>177</td>\n",
       "    </tr>\n",
       "    <tr>\n",
       "      <th>9984</th>\n",
       "      <td>194</td>\n",
       "      <td>336</td>\n",
       "      <td>336</td>\n",
       "    </tr>\n",
       "    <tr>\n",
       "      <th>9985</th>\n",
       "      <td>119</td>\n",
       "      <td>296</td>\n",
       "      <td>296</td>\n",
       "    </tr>\n",
       "    <tr>\n",
       "      <th>9986</th>\n",
       "      <td>644</td>\n",
       "      <td>107</td>\n",
       "      <td>107</td>\n",
       "    </tr>\n",
       "    <tr>\n",
       "      <th>9987</th>\n",
       "      <td>242</td>\n",
       "      <td>231</td>\n",
       "      <td>242</td>\n",
       "    </tr>\n",
       "    <tr>\n",
       "      <th>9988</th>\n",
       "      <td>358</td>\n",
       "      <td>777</td>\n",
       "      <td>777</td>\n",
       "    </tr>\n",
       "    <tr>\n",
       "      <th>9989</th>\n",
       "      <td>154</td>\n",
       "      <td>761</td>\n",
       "      <td>154</td>\n",
       "    </tr>\n",
       "    <tr>\n",
       "      <th>9990</th>\n",
       "      <td>743</td>\n",
       "      <td>347</td>\n",
       "      <td>347</td>\n",
       "    </tr>\n",
       "    <tr>\n",
       "      <th>9991</th>\n",
       "      <td>650</td>\n",
       "      <td>635</td>\n",
       "      <td>635</td>\n",
       "    </tr>\n",
       "    <tr>\n",
       "      <th>9992</th>\n",
       "      <td>503</td>\n",
       "      <td>210</td>\n",
       "      <td>503</td>\n",
       "    </tr>\n",
       "    <tr>\n",
       "      <th>9993</th>\n",
       "      <td>86</td>\n",
       "      <td>64</td>\n",
       "      <td>64</td>\n",
       "    </tr>\n",
       "    <tr>\n",
       "      <th>9994</th>\n",
       "      <td>194</td>\n",
       "      <td>604</td>\n",
       "      <td>604</td>\n",
       "    </tr>\n",
       "    <tr>\n",
       "      <th>9995</th>\n",
       "      <td>216</td>\n",
       "      <td>498</td>\n",
       "      <td>498</td>\n",
       "    </tr>\n",
       "    <tr>\n",
       "      <th>9996</th>\n",
       "      <td>113</td>\n",
       "      <td>404</td>\n",
       "      <td>404</td>\n",
       "    </tr>\n",
       "    <tr>\n",
       "      <th>9997</th>\n",
       "      <td>493</td>\n",
       "      <td>104</td>\n",
       "      <td>493</td>\n",
       "    </tr>\n",
       "    <tr>\n",
       "      <th>9998</th>\n",
       "      <td>643</td>\n",
       "      <td>259</td>\n",
       "      <td>643</td>\n",
       "    </tr>\n",
       "    <tr>\n",
       "      <th>9999</th>\n",
       "      <td>678</td>\n",
       "      <td>531</td>\n",
       "      <td>531</td>\n",
       "    </tr>\n",
       "  </tbody>\n",
       "</table>\n",
       "<p>10000 rows × 3 columns</p>\n",
       "</div>"
      ],
      "text/plain": [
       "      First_pokemon  Second_pokemon  Winner\n",
       "0               129             117     129\n",
       "1               660             211     211\n",
       "2               706             115     706\n",
       "3               195             618     618\n",
       "4                27             656      27\n",
       "5               126             222     126\n",
       "6               436             207     436\n",
       "7               121              36      36\n",
       "8               169             636     169\n",
       "9               302             688     302\n",
       "10               39             380     380\n",
       "11               11             292      11\n",
       "12              228             747     747\n",
       "13              302             763     302\n",
       "14              455             436     436\n",
       "15              381              14     381\n",
       "16              205             710     205\n",
       "17               86             639     639\n",
       "18              128             681     681\n",
       "19              565             570     570\n",
       "20              496             448     496\n",
       "21               36             378      36\n",
       "22              518             284     518\n",
       "23               97             376     376\n",
       "24              690             542     542\n",
       "25              669             482     482\n",
       "26              164              15     164\n",
       "27              521             773     773\n",
       "28              260             107     260\n",
       "29              524             140     524\n",
       "...             ...             ...     ...\n",
       "9970            534             123     534\n",
       "9971            310             551     551\n",
       "9972            475             530     475\n",
       "9973            212             145     212\n",
       "9974            752             112     752\n",
       "9975            626             432     432\n",
       "9976            332             794     794\n",
       "9977            224             734     224\n",
       "9978            277             356     277\n",
       "9979            418             110     110\n",
       "9980            732             188     732\n",
       "9981             84             617      84\n",
       "9982            429             175     429\n",
       "9983            295             177     177\n",
       "9984            194             336     336\n",
       "9985            119             296     296\n",
       "9986            644             107     107\n",
       "9987            242             231     242\n",
       "9988            358             777     777\n",
       "9989            154             761     154\n",
       "9990            743             347     347\n",
       "9991            650             635     635\n",
       "9992            503             210     503\n",
       "9993             86              64      64\n",
       "9994            194             604     604\n",
       "9995            216             498     498\n",
       "9996            113             404     404\n",
       "9997            493             104     493\n",
       "9998            643             259     643\n",
       "9999            678             531     531\n",
       "\n",
       "[10000 rows x 3 columns]"
      ]
     },
     "execution_count": 37,
     "metadata": {},
     "output_type": "execute_result"
    }
   ],
   "source": [
    "tests = pd.read_csv('../input/tests.csv')\n",
    "tests_add_data = tests.copy()\n",
    "tests_add_data[\"First_pokemon_type\"] = tests_add_data[\"First_pokemon\"].replace(type_dict)\n",
    "tests_add_data[\"First_pokemon_hp\"] = tests_add_data[\"First_pokemon\"].replace(hp_dict)\n",
    "tests_add_data[\"First_pokemon_attack\"] = tests_add_data[\"First_pokemon\"].replace(attack_dict)\n",
    "tests_add_data[\"First_pokemon_defense\"] = tests_add_data[\"First_pokemon\"].replace(defense_dict)\n",
    "tests_add_data[\"First_pokemon_spattack\"] = tests_add_data[\"First_pokemon\"].replace(spattack_dict)\n",
    "tests_add_data[\"First_pokemon_spdefense\"] = tests_add_data[\"First_pokemon\"].replace(spdefense_dict)\n",
    "tests_add_data[\"First_pokemon_speed\"] = tests_add_data[\"First_pokemon\"].replace(speed_dict)\n",
    "tests_add_data[\"First_pokemon_stats\"] = tests_add_data[\"First_pokemon\"].replace(stats_sum_dict)\n",
    "tests_add_data[\"First_pokemon_ratio\"] = tests_add_data[\"First_pokemon\"].replace(ratio_dict)\n",
    "tests_add_data[\"Second_pokemon_type\"] = tests_add_data[\"Second_pokemon\"].replace(type_dict)\n",
    "tests_add_data[\"Second_pokemon_hp\"] = tests_add_data[\"Second_pokemon\"].replace(hp_dict)\n",
    "tests_add_data[\"Second_pokemon_attack\"] = tests_add_data[\"Second_pokemon\"].replace(attack_dict)\n",
    "tests_add_data[\"Second_pokemon_defense\"] = tests_add_data[\"Second_pokemon\"].replace(defense_dict)\n",
    "tests_add_data[\"Second_pokemon_spattack\"] = tests_add_data[\"Second_pokemon\"].replace(spattack_dict)\n",
    "tests_add_data[\"Second_pokemon_spdefense\"] = tests_add_data[\"Second_pokemon\"].replace(spdefense_dict)\n",
    "tests_add_data[\"Second_pokemon_speed\"] = tests_add_data[\"Second_pokemon\"].replace(speed_dict)\n",
    "tests_add_data[\"Second_pokemon_stats\"] = tests_add_data[\"Second_pokemon\"].replace(stats_sum_dict)\n",
    "tests_add_data[\"Second_pokemon_ratio\"] = tests_add_data[\"Second_pokemon\"].replace(ratio_dict)\n",
    "tests_add_data[\"Relation\"] = tests_add_data.apply(lambda x: calcTypeRelation(x), axis = 1)\n",
    "noneed_cols = [\"First_pokemon\", \"Second_pokemon\", \"First_pokemon_type\", \"Second_pokemon_type\"]\n",
    "tests_add_data = tests_add_data.drop(noneed_cols, axis=1)\n",
    "y_predict = random_forest.predict(tests_add_data)\n",
    "data = {\"First_pokemon\": tests[\"First_pokemon\"], \"Second_pokemon\": tests[\"Second_pokemon\"], \"First_win\": y_predict}\n",
    "submission = pd.DataFrame(data=data, columns=[\"First_pokemon\", \"Second_pokemon\", \"First_win\"])\n",
    "winner = pd.DataFrame(submission.apply(lambda x: x[\"First_pokemon\"] if x[\"First_win\"]==1 else x[\"Second_pokemon\"], axis=1), columns=[\"Winner\"])\n",
    "submission = pd.concat([submission, winner], axis=1)\n",
    "submission = submission.drop([\"First_win\"], axis=1)\n",
    "submission"
   ]
  },
  {
   "cell_type": "code",
   "execution_count": 38,
   "metadata": {
    "_cell_guid": "8caf5cfe-893a-4d16-b718-39571a1daf2c",
    "_uuid": "b583c017b1d16373aba9bd2d9d19e5ec5287e91a",
    "collapsed": true
   },
   "outputs": [],
   "source": []
  }
 ],
 "metadata": {
  "kernelspec": {
   "display_name": "Python 3",
   "language": "python",
   "name": "python3"
  },
  "language_info": {
   "codemirror_mode": {
    "name": "ipython",
    "version": 3
   },
   "file_extension": ".py",
   "mimetype": "text/x-python",
   "name": "python",
   "nbconvert_exporter": "python",
   "pygments_lexer": "ipython3",
   "version": "3.6.3"
  }
 },
 "nbformat": 4,
 "nbformat_minor": 1
}
